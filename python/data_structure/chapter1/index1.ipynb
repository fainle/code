{
 "cells": [
  {
   "cell_type": "code",
   "execution_count": 7,
   "metadata": {},
   "outputs": [
    {
     "name": "stdout",
     "output_type": "stream",
     "text": [
      "True\n"
     ]
    }
   ],
   "source": [
    "# 乱序的字符串检测例子(逐一核对 O(n**2))\n",
    "\n",
    "def anagram_solution1(s1, s2):\n",
    "    alist = list(s2)\n",
    "    pos1 = 0\n",
    "    still_ok = True\n",
    "    \n",
    "    while pos1 < len(s1) and still_ok:\n",
    "        pos2 = 0\n",
    "        found = False\n",
    "        while pos2 < len(alist) and not found:\n",
    "            if s1[pos1] == alist[pos2]:\n",
    "                found = True\n",
    "            else:\n",
    "                pos2 += 1\n",
    "        \n",
    "        if found:\n",
    "            alist[pos2] = None\n",
    "        else:\n",
    "            still_ok = False\n",
    "        pos1 += 1\n",
    "    return still_ok\n",
    "\n",
    "print(anagram_solution1('abcd', 'dcba'))\n",
    "            "
   ]
  },
  {
   "cell_type": "code",
   "execution_count": 8,
   "metadata": {},
   "outputs": [
    {
     "name": "stdout",
     "output_type": "stream",
     "text": [
      "True\n"
     ]
    }
   ],
   "source": [
    "# 排序逐一比较 （O（n ** 2）or (n * logn) ）\n",
    "def anagram_solution2(s1, s2):\n",
    "    alist1 = list(s1).sort()\n",
    "    slist2 = list(s2).sort()\n",
    "    \n",
    "    pos = 0\n",
    "    matches = True\n",
    "    \n",
    "    while pos < len(s1) and matches:\n",
    "        if slist1[pos] == slist[pos]:\n",
    "            pos += 1\n",
    "        else:\n",
    "            matches = False\n",
    "            \n",
    "    return matches\n",
    "\n",
    "print(anagram_solution1('abcd', 'dcba'))"
   ]
  },
  {
   "cell_type": "code",
   "execution_count": 10,
   "metadata": {},
   "outputs": [
    {
     "name": "stdout",
     "output_type": "stream",
     "text": [
      "True\n"
     ]
    }
   ],
   "source": [
    "# 记数比较 ( O(n) )\n",
    "def anagram_solution3(s1, s2):\n",
    "    c1 = [0] * 26\n",
    "    c2 = [0] * 26\n",
    "    \n",
    "    for i in range(len(s1)):\n",
    "        pos = ord(s1[1]) - ord('a')\n",
    "        c1[pos] += 1\n",
    "        \n",
    "    for i in range(len(s2)):\n",
    "        pos = ord(s2[1]) - ord('a')\n",
    "        c2[pos] += 1\n",
    "        \n",
    "    j = 0\n",
    "    still_ok = True\n",
    "    while j < 26 and still_ok:\n",
    "        if c1[j] == c2[j]:\n",
    "            j += 1\n",
    "        else:\n",
    "            still_ok = False\n",
    "            \n",
    "    return stiil_ok\n",
    "\n",
    "print(anagram_solution1('abcd', 'dcba'))"
   ]
  },
  {
   "cell_type": "code",
   "execution_count": null,
   "metadata": {},
   "outputs": [],
   "source": []
  }
 ],
 "metadata": {
  "kernelspec": {
   "display_name": "Python 3",
   "language": "python",
   "name": "python3"
  },
  "language_info": {
   "codemirror_mode": {
    "name": "ipython",
    "version": 3
   },
   "file_extension": ".py",
   "mimetype": "text/x-python",
   "name": "python",
   "nbconvert_exporter": "python",
   "pygments_lexer": "ipython3",
   "version": "3.6.1"
  }
 },
 "nbformat": 4,
 "nbformat_minor": 2
}
