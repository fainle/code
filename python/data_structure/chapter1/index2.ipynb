{
 "cells": [
  {
   "cell_type": "code",
   "execution_count": 34,
   "metadata": {},
   "outputs": [
    {
     "name": "stdout",
     "output_type": "stream",
     "text": [
      "+: 0.0002903800050262362 毫秒\n",
      "+: 0.000333804011461325 毫秒\n",
      "append: 0.00029296700085978955 毫秒\n",
      "推导式: 0.0006114029965829104 毫秒\n",
      "list range: 0.00038543900882359594 毫秒\n"
     ]
    }
   ],
   "source": [
    "# -*- coding: utf-8 -*-\n",
    "# 各种列表的操作时间负责度。 （但是这个时间统计并没有成功 不懂原因在哪里）\n",
    "# 索引与分配 O(1)\n",
    "# append O(1)\n",
    "# + 这种链接符号 O(k) \n",
    "from timeit import Timer\n",
    "\n",
    "def test1():\n",
    "    l = []\n",
    "    for i in range(10000000000):\n",
    "        l = l + [i]\n",
    "    return l\n",
    "        \n",
    "def test2():\n",
    "    l = []\n",
    "    for i in range(1000):\n",
    "        l += [i]\n",
    "    \n",
    "def test3():\n",
    "    l = []\n",
    "    for i in range(1000):\n",
    "        l.append(i)\n",
    "        \n",
    "def test4():\n",
    "    l = [i for i in range(1000)]\n",
    "    \n",
    "def test5():\n",
    "    l = list(range(1000))\n",
    "    \n",
    "t1 = Timer(\"test1\", 'from __main__ import test1')\n",
    "print(\"+:\", t1.timeit(number  = 10000), '毫秒')\n",
    "\n",
    "t2 = Timer(\"test2\", 'from __main__ import test2')\n",
    "print(\"+:\", t2.timeit(number  = 10000), '毫秒')\n",
    "\n",
    "t3 = Timer(\"test3\", 'from __main__ import test3')\n",
    "print(\"append:\", t3.timeit(number  = 10000), '毫秒')\n",
    "\n",
    "t4 = Timer(\"test4\", 'from __main__ import test4')\n",
    "print(\"推导式:\", t4.timeit(number  = 10000), '毫秒')\n",
    "\n",
    "t5 = Timer(\"test5\", 'from __main__ import test5')\n",
    "print(\"list range:\", t5.timeit(number  = 10000), '毫秒')"
   ]
  },
  {
   "cell_type": "code",
   "execution_count": null,
   "metadata": {},
   "outputs": [],
   "source": []
  }
 ],
 "metadata": {
  "kernelspec": {
   "display_name": "Python 3",
   "language": "python",
   "name": "python3"
  },
  "language_info": {
   "codemirror_mode": {
    "name": "ipython",
    "version": 3
   },
   "file_extension": ".py",
   "mimetype": "text/x-python",
   "name": "python",
   "nbconvert_exporter": "python",
   "pygments_lexer": "ipython3",
   "version": "3.6.1"
  }
 },
 "nbformat": 4,
 "nbformat_minor": 2
}
