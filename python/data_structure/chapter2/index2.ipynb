{
 "cells": [
  {
   "cell_type": "code",
   "execution_count": 1,
   "metadata": {},
   "outputs": [],
   "source": [
    "# 10进制转2进制的 栈实现方式\n",
    "%run stack.ipynb"
   ]
  },
  {
   "cell_type": "code",
   "execution_count": 13,
   "metadata": {},
   "outputs": [
    {
     "name": "stdout",
     "output_type": "stream",
     "text": [
      "1100100\n",
      "0b1100100\n"
     ]
    }
   ],
   "source": [
    "def divide_by_2(number):\n",
    "    stack = Stack()\n",
    "    \n",
    "    while number > 0:\n",
    "        i = number % 2\n",
    "        stack.push(i)\n",
    "        number = number // 2\n",
    "        \n",
    "    string = ''\n",
    "    while not stack.is_empty():\n",
    "        top = stack.pop()\n",
    "        string += str(top)\n",
    "        \n",
    "    return string\n",
    "    \n",
    "print(divide_by_2(100))\n",
    "print(bin(100))"
   ]
  }
 ],
 "metadata": {
  "kernelspec": {
   "display_name": "Python 3",
   "language": "python",
   "name": "python3"
  },
  "language_info": {
   "codemirror_mode": {
    "name": "ipython",
    "version": 3
   },
   "file_extension": ".py",
   "mimetype": "text/x-python",
   "name": "python",
   "nbconvert_exporter": "python",
   "pygments_lexer": "ipython3",
   "version": "3.6.1"
  }
 },
 "nbformat": 4,
 "nbformat_minor": 2
}
