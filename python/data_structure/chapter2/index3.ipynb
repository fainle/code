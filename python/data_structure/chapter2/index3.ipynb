{
 "cells": [
  {
   "cell_type": "code",
   "execution_count": 19,
   "metadata": {},
   "outputs": [],
   "source": [
    "# 10进制 转 （2-16）任何进制\n",
    "%run stack.ipynb"
   ]
  },
  {
   "cell_type": "code",
   "execution_count": 14,
   "metadata": {},
   "outputs": [
    {
     "name": "stdout",
     "output_type": "stream",
     "text": [
      "1011\n"
     ]
    }
   ],
   "source": [
    "def base_converter(number, base):\n",
    "    digits = '0123456789ABCDEF'\n",
    "    stack = Stack()\n",
    "    \n",
    "    while number > 0:\n",
    "        i = number % base\n",
    "        stack.push(i)\n",
    "        number = number // base\n",
    "        \n",
    "    string = ''    \n",
    "    while not stack.is_empty():\n",
    "        top = stack.pop()\n",
    "        string += str(digits[top])\n",
    "        \n",
    "    return string\n",
    "\n",
    "print(base_converter(11, 2))"
   ]
  },
  {
   "cell_type": "code",
   "execution_count": 15,
   "metadata": {},
   "outputs": [
    {
     "name": "stdout",
     "output_type": "stream",
     "text": [
      "9C4400\n"
     ]
    }
   ],
   "source": [
    "print(base_converter(10241024, 16))"
   ]
  },
  {
   "cell_type": "code",
   "execution_count": 16,
   "metadata": {},
   "outputs": [
    {
     "name": "stdout",
     "output_type": "stream",
     "text": [
      "0x9c4400\n"
     ]
    }
   ],
   "source": [
    "print(hex(10241024))"
   ]
  },
  {
   "cell_type": "code",
   "execution_count": 17,
   "metadata": {},
   "outputs": [
    {
     "name": "stdout",
     "output_type": "stream",
     "text": [
      "47042000\n"
     ]
    }
   ],
   "source": [
    "print(base_converter(10241024, 8))"
   ]
  },
  {
   "cell_type": "code",
   "execution_count": 18,
   "metadata": {},
   "outputs": [
    {
     "name": "stdout",
     "output_type": "stream",
     "text": [
      "0o47042000\n"
     ]
    }
   ],
   "source": [
    "print(oct(10241024))"
   ]
  }
 ],
 "metadata": {
  "kernelspec": {
   "display_name": "Python 3",
   "language": "python",
   "name": "python3"
  },
  "language_info": {
   "codemirror_mode": {
    "name": "ipython",
    "version": 3
   },
   "file_extension": ".py",
   "mimetype": "text/x-python",
   "name": "python",
   "nbconvert_exporter": "python",
   "pygments_lexer": "ipython3",
   "version": "3.6.1"
  }
 },
 "nbformat": 4,
 "nbformat_minor": 2
}
