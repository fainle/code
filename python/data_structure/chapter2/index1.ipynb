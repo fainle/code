{
 "cells": [
  {
   "cell_type": "code",
   "execution_count": 2,
   "metadata": {},
   "outputs": [],
   "source": [
    "# 多符号堆栈结构的顺序 (这里并没有成功 回头寻找原因)\n",
    "\n",
    "%run stack.ipynb"
   ]
  },
  {
   "cell_type": "code",
   "execution_count": 8,
   "metadata": {},
   "outputs": [
    {
     "name": "stdout",
     "output_type": "stream",
     "text": [
      "False\n",
      "False\n"
     ]
    }
   ],
   "source": [
    "def par_checker(string):\n",
    "    stack = Stack()\n",
    "    balanced = True\n",
    "    index = 0\n",
    "    while index < len(string) and balanced:\n",
    "        symbol = string[index]\n",
    "        if symbol in \"([{\":\n",
    "            stack.push(symbol)\n",
    "        else:\n",
    "            if stack.is_empty():\n",
    "                balanced = False\n",
    "            else:\n",
    "                top = stack.pop()\n",
    "                if not matches(top, symbol):\n",
    "                    balanced = False\n",
    "        index += 1\n",
    "        \n",
    "    if balanced and stack.is_empty():\n",
    "        return True\n",
    "    \n",
    "    return False\n",
    "\n",
    "def matches(open, close):\n",
    "    opens = \"({[\"\n",
    "    closes = \")]}\"\n",
    "    \n",
    "    return opens.index(open) == closes.index(close)\n",
    "\n",
    "print(par_checker('{{([][])}()}'))\n",
    "print(par_checker('[{()]'))      "
   ]
  },
  {
   "cell_type": "code",
   "execution_count": null,
   "metadata": {},
   "outputs": [],
   "source": []
  }
 ],
 "metadata": {
  "kernelspec": {
   "display_name": "Python 3",
   "language": "python",
   "name": "python3"
  },
  "language_info": {
   "codemirror_mode": {
    "name": "ipython",
    "version": 3
   },
   "file_extension": ".py",
   "mimetype": "text/x-python",
   "name": "python",
   "nbconvert_exporter": "python",
   "pygments_lexer": "ipython3",
   "version": "3.6.1"
  }
 },
 "nbformat": 4,
 "nbformat_minor": 2
}
