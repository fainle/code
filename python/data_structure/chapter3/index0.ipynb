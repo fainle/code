{
 "cells": [
  {
   "cell_type": "code",
   "execution_count": 2,
   "metadata": {},
   "outputs": [],
   "source": [
    "# 最后一个能活下去的残酷圈\n",
    "\n",
    "%run queue.ipynb"
   ]
  },
  {
   "cell_type": "code",
   "execution_count": 4,
   "metadata": {},
   "outputs": [
    {
     "name": "stdout",
     "output_type": "stream",
     "text": [
      "e\n"
     ]
    }
   ],
   "source": [
    "def hot_potato(name_list, num):\n",
    "    queue = Queue()\n",
    "    \n",
    "    for name in name_list:\n",
    "        queue.enqueue(name)\n",
    "        \n",
    "    while queue.size() > 1:\n",
    "        #执行数圈圈并且移动位置\n",
    "        for i in range(num):\n",
    "            queue.enqueue(queue.dequeue())\n",
    "        \n",
    "        #杀死倒霉蛋\n",
    "        queue.dequeue()\n",
    "        \n",
    "    #最后一个就是幸运儿\n",
    "    return queue.dequeue()\n",
    "\n",
    "print(hot_potato(['a','b','c','d','e','f'], 3))"
   ]
  },
  {
   "cell_type": "code",
   "execution_count": null,
   "metadata": {},
   "outputs": [],
   "source": []
  }
 ],
 "metadata": {
  "kernelspec": {
   "display_name": "Python 3",
   "language": "python",
   "name": "python3"
  },
  "language_info": {
   "codemirror_mode": {
    "name": "ipython",
    "version": 3
   },
   "file_extension": ".py",
   "mimetype": "text/x-python",
   "name": "python",
   "nbconvert_exporter": "python",
   "pygments_lexer": "ipython3",
   "version": "3.6.1"
  }
 },
 "nbformat": 4,
 "nbformat_minor": 2
}
