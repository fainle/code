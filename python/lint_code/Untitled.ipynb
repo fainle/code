{
 "cells": [
  {
   "cell_type": "code",
   "execution_count": 67,
   "metadata": {},
   "outputs": [],
   "source": [
    "class Solution:\n",
    "    \"\"\"\n",
    "    @param: A: an array\n",
    "    @return: total of reverse pairs\n",
    "    \"\"\"\n",
    "    def reversePairs(self, A):\n",
    "        # write your code here\n",
    "        if not A:\n",
    "            return 0\n",
    "        \n",
    "        s = 0\n",
    "        number = 0\n",
    "        for i in A:\n",
    "            a = A[s:]\n",
    "            a.sort()\n",
    "            index = a.index(i)\n",
    "            number += index\n",
    "            s += 1\n",
    "                \n",
    "        return number"
   ]
  },
  {
   "cell_type": "code",
   "execution_count": 68,
   "metadata": {},
   "outputs": [
    {
     "name": "stdout",
     "output_type": "stream",
     "text": [
      "6\n"
     ]
    }
   ],
   "source": [
    "x = Solution()\n",
    "m = x.reversePairs(A = [4,3,2,1])\n",
    "\n",
    "print(m)"
   ]
  },
  {
   "cell_type": "code",
   "execution_count": 51,
   "metadata": {},
   "outputs": [
    {
     "name": "stdout",
     "output_type": "stream",
     "text": [
      "4\n"
     ]
    }
   ],
   "source": [
    "print(m)"
   ]
  },
  {
   "cell_type": "code",
   "execution_count": null,
   "metadata": {},
   "outputs": [],
   "source": []
  }
 ],
 "metadata": {
  "kernelspec": {
   "display_name": "Python 3",
   "language": "python",
   "name": "python3"
  },
  "language_info": {
   "codemirror_mode": {
    "name": "ipython",
    "version": 3
   },
   "file_extension": ".py",
   "mimetype": "text/x-python",
   "name": "python",
   "nbconvert_exporter": "python",
   "pygments_lexer": "ipython3",
   "version": "3.6.2"
  }
 },
 "nbformat": 4,
 "nbformat_minor": 2
}
