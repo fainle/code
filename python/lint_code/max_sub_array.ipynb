{
 "cells": [
  {
   "cell_type": "code",
   "execution_count": 39,
   "metadata": {},
   "outputs": [],
   "source": [
    "# 给定一个整数数组，找到一个具有最大和的子数组，返回其最大和。\n",
    "# 这题可以用贪心算法解答，虽然递归也可以，但是实际复杂度更高\n",
    "\n",
    "class Solution:\n",
    "    \"\"\"\n",
    "    @param: nums: A list of integers\n",
    "    @return: A integer indicate the sum of max subarray\n",
    "    \"\"\"\n",
    "    def maxSubArray(self, nums):\n",
    "        \n",
    "        sum_sumber = 0\n",
    "        max_number = nums[0]\n",
    "        for num in nums:\n",
    "            sum_sumber += num\n",
    "            max_number = max(max_number, sum_sumber)\n",
    "            sum_sumber = max(sum_sumber, 0)\n",
    "            \n",
    "        return max_number\n",
    "    \n",
    "    \n",
    "    def maxSubArray2(self, nums):\n",
    "        # write your code here\n",
    "        length = len(nums)\n",
    "        new_list = (sum(nums[i:i+j]) for i in range(length) for j in range(1, length+1) if i + j <= length)\n",
    "        max = next(new_list)\n",
    "        for num in new_list:\n",
    "            if num > max:\n",
    "                max = num\n",
    "        return max"
   ]
  },
  {
   "cell_type": "code",
   "execution_count": 40,
   "metadata": {},
   "outputs": [
    {
     "data": {
      "text/plain": [
       "6"
      ]
     },
     "execution_count": 40,
     "metadata": {},
     "output_type": "execute_result"
    }
   ],
   "source": [
    "Solution().maxSubArray(nums=[-2,2,-3,4,-1,2,1,-5,3])"
   ]
  },
  {
   "cell_type": "code",
   "execution_count": 41,
   "metadata": {},
   "outputs": [
    {
     "data": {
      "text/plain": [
       "6"
      ]
     },
     "execution_count": 41,
     "metadata": {},
     "output_type": "execute_result"
    }
   ],
   "source": [
    "Solution().maxSubArray2(nums=[-2,2,-3,4,-1,2,1,-5,3])"
   ]
  },
  {
   "cell_type": "code",
   "execution_count": null,
   "metadata": {},
   "outputs": [],
   "source": []
  }
 ],
 "metadata": {
  "kernelspec": {
   "display_name": "Python 3",
   "language": "python",
   "name": "python3"
  },
  "language_info": {
   "codemirror_mode": {
    "name": "ipython",
    "version": 3
   },
   "file_extension": ".py",
   "mimetype": "text/x-python",
   "name": "python",
   "nbconvert_exporter": "python",
   "pygments_lexer": "ipython3",
   "version": "3.6.1"
  }
 },
 "nbformat": 4,
 "nbformat_minor": 2
}
