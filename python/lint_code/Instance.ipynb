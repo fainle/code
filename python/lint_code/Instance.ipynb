{
 "cells": [
  {
   "cell_type": "code",
   "execution_count": 33,
   "metadata": {},
   "outputs": [],
   "source": [
    "# 单例 是最为最常见的设计模式之一。\n",
    "# 对于任何时刻，如果某个类只存在且最多存在一个具体的实例，那么我们称这种设计模式为单例。\n",
    "# 例如，对于 class Mouse (不是动物的mouse哦)，我们应将其设计为 singleton 模式。\n",
    "# 你的任务是设计一个 getInstance 方法，对于给定的类，每次调用 getInstance 时，都可得到同一个实例。\n",
    "\n",
    "class Solution:\n",
    "    # @return: The same instance of this class every time\n",
    "    @classmethod\n",
    "    def getInstance(cls):\n",
    "        instance = cls\n",
    "        instance = lambda: instance\n",
    "        return instance    "
   ]
  },
  {
   "cell_type": "code",
   "execution_count": 34,
   "metadata": {},
   "outputs": [
    {
     "name": "stdout",
     "output_type": "stream",
     "text": [
      "<function Solution.getInstance.<locals>.<lambda> at 0x10a7941e0>\n"
     ]
    }
   ],
   "source": [
    "a = Solution.getInstance()\n",
    "print(a)"
   ]
  },
  {
   "cell_type": "code",
   "execution_count": 35,
   "metadata": {},
   "outputs": [
    {
     "name": "stdout",
     "output_type": "stream",
     "text": [
      "<function Solution.getInstance.<locals>.<lambda> at 0x10a7942f0>\n"
     ]
    }
   ],
   "source": [
    "b = Solution.getInstance()\n",
    "print(b)"
   ]
  },
  {
   "cell_type": "code",
   "execution_count": 36,
   "metadata": {},
   "outputs": [
    {
     "name": "stdout",
     "output_type": "stream",
     "text": [
      "False\n"
     ]
    }
   ],
   "source": [
    "print(a == b)"
   ]
  },
  {
   "cell_type": "code",
   "execution_count": null,
   "metadata": {},
   "outputs": [],
   "source": []
  }
 ],
 "metadata": {
  "kernelspec": {
   "display_name": "Python 3",
   "language": "python",
   "name": "python3"
  },
  "language_info": {
   "codemirror_mode": {
    "name": "ipython",
    "version": 3
   },
   "file_extension": ".py",
   "mimetype": "text/x-python",
   "name": "python",
   "nbconvert_exporter": "python",
   "pygments_lexer": "ipython3",
   "version": "3.6.1"
  }
 },
 "nbformat": 4,
 "nbformat_minor": 2
}
