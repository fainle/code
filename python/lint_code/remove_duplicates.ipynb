{
 "cells": [
  {
   "cell_type": "code",
   "execution_count": 63,
   "metadata": {},
   "outputs": [],
   "source": [
    "# 给定一个排序数组，在原数组中删除重复出现的数字，使得每个元素只出现一次，并且返回新的数组的长度。\n",
    "# 不要使用额外的数组空间，必须在原地没有额外空间的条件下完成。\n",
    "\n",
    "class Solution:\n",
    "    \"\"\"\n",
    "    @param: nums: An ineger array\n",
    "    @return: An integer\n",
    "    \"\"\"\n",
    "    def removeDuplicates(self, nums):\n",
    "        if len(nums) == 0:\n",
    "            return []\n",
    "            \n",
    "        length = len(nums)\n",
    "        \n",
    "        k = 0\n",
    "        tmp = 1\n",
    "        for i in range(1, length):\n",
    "            if nums[i] != nums[k]:\n",
    "                nums[tmp] = nums[i]\n",
    "                tmp += 1\n",
    "            k += 1\n",
    "        del nums[tmp:length]\n",
    "        return nums"
   ]
  },
  {
   "cell_type": "code",
   "execution_count": 65,
   "metadata": {},
   "outputs": [
    {
     "name": "stdout",
     "output_type": "stream",
     "text": [
      "[1, 2, 3, 4, 5, 6, 7, 8]\n"
     ]
    }
   ],
   "source": [
    "s = Solution()\n",
    "print(s.removeDuplicates([1,1,2,2,2,2,3,3,4,5,6,7,7,8,8,8,8]))"
   ]
  },
  {
   "cell_type": "code",
   "execution_count": null,
   "metadata": {},
   "outputs": [],
   "source": []
  }
 ],
 "metadata": {
  "kernelspec": {
   "display_name": "Python 3",
   "language": "python",
   "name": "python3"
  },
  "language_info": {
   "codemirror_mode": {
    "name": "ipython",
    "version": 3
   },
   "file_extension": ".py",
   "mimetype": "text/x-python",
   "name": "python",
   "nbconvert_exporter": "python",
   "pygments_lexer": "ipython3",
   "version": "3.6.1"
  }
 },
 "nbformat": 4,
 "nbformat_minor": 2
}
