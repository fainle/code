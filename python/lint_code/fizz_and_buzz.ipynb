{
 "cells": [
  {
   "cell_type": "code",
   "execution_count": 17,
   "metadata": {},
   "outputs": [],
   "source": [
    "# 给你一个整数n. 从 1 到 n 按照下面的规则打印每个数：\n",
    "\n",
    "# 如果这个数被3整除，打印fizz.\n",
    "# 如果这个数被5整除，打印buzz.\n",
    "# 如果这个数能同时被3和5整除，打印fizz buzz.\n",
    "\n",
    "class Solution:\n",
    "    \"\"\"\n",
    "    @param: n: An integer\n",
    "    @return: A list of strings.\n",
    "    \"\"\"\n",
    "    def fizzBuzz(self, n):\n",
    "        # write your code here\n",
    "        l = []\n",
    "        for i in range(1, n+1):\n",
    "            if i % 3 == 0 and i % 5 != 0:\n",
    "                l.append('fizz')\n",
    "            elif i % 3 !=0 and i % 5 == 0:\n",
    "                l.append('buzz')\n",
    "            elif i % 3 == 0 and i % 5 == 0:\n",
    "                l.append('fizz buzz')\n",
    "            else:\n",
    "                 l.append(str(i))\n",
    "                \n",
    "        return l"
   ]
  },
  {
   "cell_type": "code",
   "execution_count": 18,
   "metadata": {},
   "outputs": [
    {
     "data": {
      "text/plain": [
       "['1',\n",
       " '2',\n",
       " 'fizz',\n",
       " '4',\n",
       " 'buzz',\n",
       " 'fizz',\n",
       " '7',\n",
       " '8',\n",
       " 'fizz',\n",
       " 'buzz',\n",
       " '11',\n",
       " 'fizz',\n",
       " '13',\n",
       " '14',\n",
       " 'fizz buzz',\n",
       " '16',\n",
       " '17',\n",
       " 'fizz']"
      ]
     },
     "execution_count": 18,
     "metadata": {},
     "output_type": "execute_result"
    }
   ],
   "source": [
    "Solution().fizzBuzz(n=18)"
   ]
  },
  {
   "cell_type": "code",
   "execution_count": null,
   "metadata": {},
   "outputs": [],
   "source": []
  }
 ],
 "metadata": {
  "kernelspec": {
   "display_name": "Python 3",
   "language": "python",
   "name": "python3"
  },
  "language_info": {
   "codemirror_mode": {
    "name": "ipython",
    "version": 3
   },
   "file_extension": ".py",
   "mimetype": "text/x-python",
   "name": "python",
   "nbconvert_exporter": "python",
   "pygments_lexer": "ipython3",
   "version": "3.6.1"
  }
 },
 "nbformat": 4,
 "nbformat_minor": 2
}
