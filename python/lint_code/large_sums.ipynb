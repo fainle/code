{
 "cells": [
  {
   "cell_type": "code",
   "execution_count": 68,
   "metadata": {},
   "outputs": [],
   "source": [
    "# 以字符串的形式给出两个非负整数 num1 和 num2，返回 num1 和 num2 的和。\n",
    "#  注意事项\n",
    "# num1 和 num2 的长度都小于5100。\n",
    "# num1 和 num2 都只包含数字 0-9。\n",
    "# num1 和 num2 都不包含任何前导零。\n",
    "# 您不能使用任何内置的BigInteger库内的方法或直接将输入转换为整数。\n",
    "\n",
    "\n",
    "class Solution:\n",
    "    \"\"\"\n",
    "    @param: num1: a non-negative integers\n",
    "    @param: num2: a non-negative integers\n",
    "    @return: return sum of num1 and num2\n",
    "    \"\"\"\n",
    "    def addStrings(self, num1, num2):\n",
    "        # write your code here\n",
    "        len1 = len(num1)\n",
    "        len2 = len(num2)\n",
    "        max_len = len1    \n",
    "        if len1 < len2:\n",
    "            max_len = len2\n",
    "        \n",
    "        number1 = 0\n",
    "        number2 = 0\n",
    "        number3 = 0\n",
    "        for i in range(1, max_len+1, 1):\n",
    "            if i <= len1:\n",
    "                number1 += int(num1[-i]) * 10 ** (i-1)\n",
    "            \n",
    "            if i <= len2:\n",
    "                number2 += int(num2[-i]) * 10 ** (i-1)\n",
    "            \n",
    "            number3 = number1 + number2\n",
    "        \n",
    "        return number3\n",
    "        "
   ]
  },
  {
   "cell_type": "code",
   "execution_count": 69,
   "metadata": {},
   "outputs": [
    {
     "name": "stdout",
     "output_type": "stream",
     "text": [
      "569124\n"
     ]
    }
   ],
   "source": [
    "s = Solution()\n",
    "s.addStrings('1234', '567890')"
   ]
  },
  {
   "cell_type": "code",
   "execution_count": null,
   "metadata": {},
   "outputs": [],
   "source": []
  },
  {
   "cell_type": "code",
   "execution_count": null,
   "metadata": {},
   "outputs": [],
   "source": []
  },
  {
   "cell_type": "code",
   "execution_count": null,
   "metadata": {},
   "outputs": [],
   "source": []
  },
  {
   "cell_type": "code",
   "execution_count": null,
   "metadata": {},
   "outputs": [],
   "source": []
  },
  {
   "cell_type": "code",
   "execution_count": null,
   "metadata": {},
   "outputs": [],
   "source": []
  },
  {
   "cell_type": "code",
   "execution_count": null,
   "metadata": {},
   "outputs": [],
   "source": []
  }
 ],
 "metadata": {
  "kernelspec": {
   "display_name": "Python 3",
   "language": "python",
   "name": "python3"
  },
  "language_info": {
   "codemirror_mode": {
    "name": "ipython",
    "version": 3
   },
   "file_extension": ".py",
   "mimetype": "text/x-python",
   "name": "python",
   "nbconvert_exporter": "python",
   "pygments_lexer": "ipython3",
   "version": "3.6.1"
  }
 },
 "nbformat": 4,
 "nbformat_minor": 2
}
