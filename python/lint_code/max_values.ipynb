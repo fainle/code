{
 "cells": [
  {
   "cell_type": "code",
   "execution_count": 1,
   "metadata": {},
   "outputs": [],
   "source": [
    "#给一个字符串类型的数字, 写一个方法去找到最大值, 你可以在任意两个数字间加 + 或 *\n",
    "# 样例\n",
    "# 给出 str = 01231, 返回 10 ((((0 + 1) + 2) * 3) + 1) = 10 我们得到了最大值 10\n",
    "# 给出 str = 891, 返回 73 因为 8 * 9 * 1 = 72 和 8 * 9 + 1 = 73, 所以73是最大值\n",
    "\n",
    "class Solution:\n",
    "    \"\"\"\n",
    "    @param: : the given string\n",
    "    @return: the maximum value\n",
    "    \"\"\"\n",
    "\n",
    "    def calcMaxValue(self, str):\n",
    "        # write your code here\n",
    "        if len(str) == 0:\n",
    "            return 0    \n",
    "            \n",
    "        number = int(str[0])\n",
    "        \n",
    "        for i in str[1:]:\n",
    "            if number > 1:\n",
    "                if int(i) <= 1:\n",
    "                    number += int(i)\n",
    "                else:\n",
    "                    number *= int(i)\n",
    "            else:\n",
    "                number += int(i)    \n",
    "        \n",
    "        return number"
   ]
  },
  {
   "cell_type": "code",
   "execution_count": null,
   "metadata": {},
   "outputs": [],
   "source": []
  }
 ],
 "metadata": {
  "kernelspec": {
   "display_name": "Python 3",
   "language": "python",
   "name": "python3"
  },
  "language_info": {
   "codemirror_mode": {
    "name": "ipython",
    "version": 3
   },
   "file_extension": ".py",
   "mimetype": "text/x-python",
   "name": "python",
   "nbconvert_exporter": "python",
   "pygments_lexer": "ipython3",
   "version": "3.6.2"
  }
 },
 "nbformat": 4,
 "nbformat_minor": 2
}
