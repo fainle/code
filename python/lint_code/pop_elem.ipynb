{
 "cells": [
  {
   "cell_type": "code",
   "execution_count": 7,
   "metadata": {},
   "outputs": [],
   "source": [
    "# 移除指定数据并返回空列表\n",
    "\n",
    "class Solution:\n",
    "    \"\"\"\n",
    "    @param: A: A list of integers\n",
    "    @param: elem: An integer\n",
    "    @return: The new length after remove\n",
    "    \"\"\"\n",
    "    def removeElement(self, A, elem):\n",
    "        # write your code here\n",
    "        if not A:\n",
    "            return A\n",
    "        \n",
    "        count = A.count(elem)\n",
    "        if not count:\n",
    "            return A\n",
    "            \n",
    "        for i in range(count):\n",
    "            A.pop(A.index(elem))\n",
    "            \n",
    "        return A"
   ]
  },
  {
   "cell_type": "code",
   "execution_count": null,
   "metadata": {},
   "outputs": [],
   "source": []
  }
 ],
 "metadata": {
  "kernelspec": {
   "display_name": "Python 3",
   "language": "python",
   "name": "python3"
  },
  "language_info": {
   "codemirror_mode": {
    "name": "ipython",
    "version": 3
   },
   "file_extension": ".py",
   "mimetype": "text/x-python",
   "name": "python",
   "nbconvert_exporter": "python",
   "pygments_lexer": "ipython3",
   "version": "3.6.2"
  }
 },
 "nbformat": 4,
 "nbformat_minor": 2
}
