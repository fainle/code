{
 "cells": [
  {
   "cell_type": "code",
   "execution_count": 2,
   "metadata": {},
   "outputs": [
    {
     "data": {
      "text/plain": [
       "8"
      ]
     },
     "execution_count": 2,
     "metadata": {},
     "output_type": "execute_result"
    }
   ],
   "source": [
    "import pickle\n",
    "\n",
    "class A:\n",
    "    def __init__(self, i):\n",
    "        self.i = i\n",
    "        \n",
    "a = A(8)\n",
    "\n",
    "with open('data.pickle', 'wb') as f:\n",
    "    pickle.dump(a, f, pickle.HIGHEST_PROTOCOL)\n",
    "    \n",
    "with open('data.pickle', 'rb') as f:\n",
    "    cls = pickle.load(f)\n",
    "    \n",
    "cls.i"
   ]
  },
  {
   "cell_type": "code",
   "execution_count": null,
   "metadata": {},
   "outputs": [],
   "source": []
  }
 ],
 "metadata": {
  "kernelspec": {
   "display_name": "Python 3",
   "language": "python",
   "name": "python3"
  },
  "language_info": {
   "codemirror_mode": {
    "name": "ipython",
    "version": 3
   },
   "file_extension": ".py",
   "mimetype": "text/x-python",
   "name": "python",
   "nbconvert_exporter": "python",
   "pygments_lexer": "ipython3",
   "version": "3.6.1"
  }
 },
 "nbformat": 4,
 "nbformat_minor": 2
}
