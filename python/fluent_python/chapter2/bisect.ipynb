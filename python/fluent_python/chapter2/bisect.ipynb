{
 "cells": [
  {
   "cell_type": "code",
   "execution_count": 30,
   "metadata": {},
   "outputs": [],
   "source": [
    "# bisect 模块 包含了2个主要函数 bisect 和 insort  （二分法查找算法 在有序序列中 查找和插入元素）\n",
    "\n",
    "import bisect\n",
    "import sys\n",
    "\n",
    "haystack = [1, 4, 5, 8, 12, 15]\n",
    "needle = [8,10,11]\n",
    "\n",
    "row_fmt = '{0:2d}@{1:2d}    {2}{0:<2d}'\n",
    "\n",
    "def demo(bisect_fn):\n",
    "    for needle_l in reversed(needle):\n",
    "        position = bisect_fn(haystack, needle_l)\n",
    "        offset = position * ' | '\n",
    "        print(row_fmt.format(needle_l, position, offset))            "
   ]
  },
  {
   "cell_type": "code",
   "execution_count": 31,
   "metadata": {},
   "outputs": [
    {
     "name": "stdout",
     "output_type": "stream",
     "text": [
      "hays  ->  1  4  5  8 12 15\n",
      "11@ 4     |  |  |  | 11\n",
      "10@ 4     |  |  |  | 10\n",
      " 8@ 3     |  |  | 8 \n"
     ]
    }
   ],
   "source": [
    "print('hays  ->', ' '.join('%2d' %n for n in haystack))                                                      \n",
    "demo(bisect.bisect_left)"
   ]
  },
  {
   "cell_type": "code",
   "execution_count": 32,
   "metadata": {},
   "outputs": [
    {
     "data": {
      "text/plain": [
       "['F', 'A', 'F', 'F', 'C', 'B', 'A', 'D', 'F']"
      ]
     },
     "execution_count": 32,
     "metadata": {},
     "output_type": "execute_result"
    }
   ],
   "source": [
    "# 一个搜索实用的例子\n",
    "def grade(score, break_points=[60,70,80,90], grades='FDCBA'):\n",
    "    i = bisect.bisect(break_points, score)\n",
    "    return grades[i]\n",
    "\n",
    "[grade(score) for score in [21, 99, 23, 19, 77, 82, 99, 62, 55]]"
   ]
  },
  {
   "cell_type": "code",
   "execution_count": 51,
   "metadata": {},
   "outputs": [
    {
     "data": {
      "text/plain": [
       "('blue', 2)"
      ]
     },
     "execution_count": 51,
     "metadata": {},
     "output_type": "execute_result"
    }
   ],
   "source": [
    "# 第二个例子用于元祖的值做索引查询，且不改变结构 (要求值不能重复)\n",
    "data = [('red', 4), ('blue', 2), ('yellow', 3), ('black', 1)]\n",
    "data.sort(key=lambda key:key[1])\n",
    "keys = [r[1] for r in data]\n",
    "data[bisect.bisect_left(keys, 2)]"
   ]
  },
  {
   "cell_type": "code",
   "execution_count": 52,
   "metadata": {},
   "outputs": [],
   "source": [
    "import random"
   ]
  },
  {
   "cell_type": "code",
   "execution_count": 55,
   "metadata": {},
   "outputs": [],
   "source": [
    "SIZE=14\n",
    "random.seed(1729)"
   ]
  },
  {
   "cell_type": "code",
   "execution_count": 56,
   "metadata": {},
   "outputs": [
    {
     "name": "stdout",
     "output_type": "stream",
     "text": [
      "20 -> [20]\n",
      " 1 -> [1, 20]\n",
      "13 -> [1, 13, 20]\n",
      "16 -> [1, 13, 16, 20]\n",
      "14 -> [1, 13, 14, 16, 20]\n",
      " 5 -> [1, 5, 13, 14, 16, 20]\n",
      "21 -> [1, 5, 13, 14, 16, 20, 21]\n",
      " 1 -> [1, 1, 5, 13, 14, 16, 20, 21]\n",
      " 5 -> [1, 1, 5, 5, 13, 14, 16, 20, 21]\n",
      "27 -> [1, 1, 5, 5, 13, 14, 16, 20, 21, 27]\n",
      " 9 -> [1, 1, 5, 5, 9, 13, 14, 16, 20, 21, 27]\n",
      "16 -> [1, 1, 5, 5, 9, 13, 14, 16, 16, 20, 21, 27]\n",
      "11 -> [1, 1, 5, 5, 9, 11, 13, 14, 16, 16, 20, 21, 27]\n",
      "27 -> [1, 1, 5, 5, 9, 11, 13, 14, 16, 16, 20, 21, 27, 27]\n"
     ]
    }
   ],
   "source": [
    "my_list = []\n",
    "for i in range(SIZE):\n",
    "    new_item = random.randrange(SIZE*2)\n",
    "    bisect.insort(my_list, new_item)\n",
    "    print('%2d ->' % new_item, my_list)"
   ]
  },
  {
   "cell_type": "code",
   "execution_count": null,
   "metadata": {},
   "outputs": [],
   "source": []
  }
 ],
 "metadata": {
  "kernelspec": {
   "display_name": "Python 3",
   "language": "python",
   "name": "python3"
  },
  "language_info": {
   "codemirror_mode": {
    "name": "ipython",
    "version": 3
   },
   "file_extension": ".py",
   "mimetype": "text/x-python",
   "name": "python",
   "nbconvert_exporter": "python",
   "pygments_lexer": "ipython3",
   "version": "3.6.1"
  }
 },
 "nbformat": 4,
 "nbformat_minor": 2
}
