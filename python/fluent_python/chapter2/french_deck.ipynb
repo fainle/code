{
 "cells": [
  {
   "cell_type": "code",
   "execution_count": 16,
   "metadata": {},
   "outputs": [],
   "source": [
    "from collections import namedtuple\n",
    "\n",
    "card = namedtuple('card', ['rank', 'suit'])\n",
    "\n",
    "class FrenchDeck:\n",
    "    ranks = [str(n) for n in range(2, 11)] + list('JQKA')\n",
    "    suits = '♠️ ♥️ ♣️ ♦️'.split()\n",
    "    \n",
    "    def __init__(self):\n",
    "        self._cards = [card(rank, suit) for rank in self.ranks \n",
    "                       for suit in self.suits]\n",
    "        \n",
    "    def __len__(self):\n",
    "        return len(self._cards)\n",
    "    \n",
    "    def __getitem__(self, key): #这个属性 让实例类也可以继承list的基础属性，比如切片 迭代\n",
    "        return self._cards[key]"
   ]
  },
  {
   "cell_type": "code",
   "execution_count": 17,
   "metadata": {},
   "outputs": [
    {
     "data": {
      "text/plain": [
       "52"
      ]
     },
     "execution_count": 17,
     "metadata": {},
     "output_type": "execute_result"
    }
   ],
   "source": [
    "deck = FrenchDeck()\n",
    "len(deck)"
   ]
  },
  {
   "cell_type": "code",
   "execution_count": 18,
   "metadata": {},
   "outputs": [
    {
     "data": {
      "text/plain": [
       "card(rank='9', suit='♥️')"
      ]
     },
     "execution_count": 18,
     "metadata": {},
     "output_type": "execute_result"
    }
   ],
   "source": [
    "from random import choice\n",
    "\n",
    "choice(deck)"
   ]
  },
  {
   "cell_type": "code",
   "execution_count": 19,
   "metadata": {},
   "outputs": [
    {
     "data": {
      "text/plain": [
       "[card(rank='2', suit='♠️'),\n",
       " card(rank='2', suit='♥️'),\n",
       " card(rank='2', suit='♣️'),\n",
       " card(rank='2', suit='♦️')]"
      ]
     },
     "execution_count": 19,
     "metadata": {},
     "output_type": "execute_result"
    }
   ],
   "source": [
    "deck[:4]"
   ]
  },
  {
   "cell_type": "code",
   "execution_count": 27,
   "metadata": {},
   "outputs": [],
   "source": [
    "suit_values = dict()\n",
    "suit_values['♠️'] = 4\n",
    "suit_values['♥️'] = 3\n",
    "suit_values['♣️'] = 2\n",
    "suit_values['♦️'] = 1\n",
    "def spades_high(card):\n",
    "    rank_value = FrenchDeck.ranks.index(card.rank)\n",
    "    return rank_value * len(suit_values) + suit_values[card.suit]"
   ]
  },
  {
   "cell_type": "code",
   "execution_count": 29,
   "metadata": {},
   "outputs": [
    {
     "name": "stdout",
     "output_type": "stream",
     "text": [
      "card(rank='A', suit='♠️')\n",
      "card(rank='A', suit='♥️')\n",
      "card(rank='A', suit='♣️')\n",
      "card(rank='A', suit='♦️')\n",
      "card(rank='K', suit='♠️')\n",
      "card(rank='K', suit='♥️')\n",
      "card(rank='K', suit='♣️')\n",
      "card(rank='K', suit='♦️')\n",
      "card(rank='Q', suit='♠️')\n",
      "card(rank='Q', suit='♥️')\n",
      "card(rank='Q', suit='♣️')\n",
      "card(rank='Q', suit='♦️')\n",
      "card(rank='J', suit='♠️')\n",
      "card(rank='J', suit='♥️')\n",
      "card(rank='J', suit='♣️')\n",
      "card(rank='J', suit='♦️')\n",
      "card(rank='10', suit='♠️')\n",
      "card(rank='10', suit='♥️')\n",
      "card(rank='10', suit='♣️')\n",
      "card(rank='10', suit='♦️')\n",
      "card(rank='9', suit='♠️')\n",
      "card(rank='9', suit='♥️')\n",
      "card(rank='9', suit='♣️')\n",
      "card(rank='9', suit='♦️')\n",
      "card(rank='8', suit='♠️')\n",
      "card(rank='8', suit='♥️')\n",
      "card(rank='8', suit='♣️')\n",
      "card(rank='8', suit='♦️')\n",
      "card(rank='7', suit='♠️')\n",
      "card(rank='7', suit='♥️')\n",
      "card(rank='7', suit='♣️')\n",
      "card(rank='7', suit='♦️')\n",
      "card(rank='6', suit='♠️')\n",
      "card(rank='6', suit='♥️')\n",
      "card(rank='6', suit='♣️')\n",
      "card(rank='6', suit='♦️')\n",
      "card(rank='5', suit='♠️')\n",
      "card(rank='5', suit='♥️')\n",
      "card(rank='5', suit='♣️')\n",
      "card(rank='5', suit='♦️')\n",
      "card(rank='4', suit='♠️')\n",
      "card(rank='4', suit='♥️')\n",
      "card(rank='4', suit='♣️')\n",
      "card(rank='4', suit='♦️')\n",
      "card(rank='3', suit='♠️')\n",
      "card(rank='3', suit='♥️')\n",
      "card(rank='3', suit='♣️')\n",
      "card(rank='3', suit='♦️')\n",
      "card(rank='2', suit='♠️')\n",
      "card(rank='2', suit='♥️')\n",
      "card(rank='2', suit='♣️')\n",
      "card(rank='2', suit='♦️')\n"
     ]
    }
   ],
   "source": [
    "for card in sorted(deck, key=spades_high, reverse=True):\n",
    "    print(card)"
   ]
  },
  {
   "cell_type": "code",
   "execution_count": null,
   "metadata": {},
   "outputs": [],
   "source": []
  }
 ],
 "metadata": {
  "kernelspec": {
   "display_name": "Python 3",
   "language": "python",
   "name": "python3"
  },
  "language_info": {
   "codemirror_mode": {
    "name": "ipython",
    "version": 3
   },
   "file_extension": ".py",
   "mimetype": "text/x-python",
   "name": "python",
   "nbconvert_exporter": "python",
   "pygments_lexer": "ipython3",
   "version": "3.6.2"
  }
 },
 "nbformat": 4,
 "nbformat_minor": 2
}
