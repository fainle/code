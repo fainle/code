{
 "cells": [
  {
   "cell_type": "code",
   "execution_count": 1,
   "metadata": {},
   "outputs": [
    {
     "name": "stdout",
     "output_type": "stream",
     "text": [
      "listcomp        : 16.952 16.467 16.477\n",
      "listcomp + func : 23.644 22.882 23.581\n",
      "filter + lambda : 21.776 22.719 22.919\n",
      "filter + func   : 21.217 22.026 21.657\n"
     ]
    }
   ],
   "source": [
    "import timeit\n",
    "\n",
    "TIMES = 10000000\n",
    "\n",
    "SETUP = \"\"\"\n",
    "symbols = '$¢£¥€¤'\n",
    "def non_ascii(c):\n",
    "    return c > 127\n",
    "\"\"\"\n",
    "\n",
    "def clock(label, cmd):\n",
    "    res = timeit.repeat(cmd, setup=SETUP, number=TIMES)\n",
    "    print(label, *('{:.3f}'.format(x) for x in res))\n",
    "\n",
    "clock('listcomp        :', '[ord(s) for s in symbols if ord(s) > 127]')\n",
    "clock('listcomp + func :', '[ord(s) for s in symbols if non_ascii(ord(s))]')\n",
    "clock('filter + lambda :', 'list(filter(lambda c: c > 127, map(ord, symbols)))')\n",
    "clock('filter + func   :', 'list(filter(non_ascii, map(ord, symbols)))')"
   ]
  },
  {
   "cell_type": "code",
   "execution_count": null,
   "metadata": {},
   "outputs": [],
   "source": []
  }
 ],
 "metadata": {
  "kernelspec": {
   "display_name": "Python 3",
   "language": "python",
   "name": "python3"
  },
  "language_info": {
   "codemirror_mode": {
    "name": "ipython",
    "version": 3
   },
   "file_extension": ".py",
   "mimetype": "text/x-python",
   "name": "python",
   "nbconvert_exporter": "python",
   "pygments_lexer": "ipython3",
   "version": "3.6.1"
  }
 },
 "nbformat": 4,
 "nbformat_minor": 2
}
