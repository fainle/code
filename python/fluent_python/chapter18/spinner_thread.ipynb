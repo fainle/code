{
 "cells": [
  {
   "cell_type": "code",
   "execution_count": 1,
   "metadata": {},
   "outputs": [],
   "source": [
    "import threading\n",
    "import itertools\n",
    "import time\n",
    "import sys\n",
    "\n",
    "\n",
    "class Signal:\n",
    "    go = True\n",
    "    \n",
    "    \n",
    "def spin(msg, signal):\n",
    "    write, flush = sys.stdout.write, sys.stdout.flush\n",
    "    for char in itertools.cycle('|/-\\\\'):\n",
    "        status = char + '' + msg\n",
    "        write(status)\n",
    "        flush()\n",
    "        write('\\x08' * len(status))\n",
    "        time.sleep(.1)\n",
    "        if not signal.go:\n",
    "            break\n",
    "    write(' ' * len(status) + '\\x08' * len(status))\n",
    "    \n",
    "def slow_function():\n",
    "    time.sleep(3)\n",
    "    return 42\n",
    "\n",
    "def supervisor():\n",
    "    signal = Signal()\n",
    "    spinner = threading.Thread(target=spin, args=('thinking!', signal))\n",
    "    print('spinner object:', spinner)\n",
    "    spinner.start()\n",
    "    result = slow_function()\n",
    "    signal.go = False\n",
    "    spinner.join()\n",
    "    return result\n",
    "\n",
    "def main():\n",
    "    result = supervisor()\n",
    "    print('Answer:', result)"
   ]
  },
  {
   "cell_type": "code",
   "execution_count": 2,
   "metadata": {},
   "outputs": [
    {
     "name": "stdout",
     "output_type": "stream",
     "text": [
      "spinner object:|thinking! <Thread(Thread-4, initial)>\b\b\b\b\b\b\b\b\b\b\n",
      "/thinking!\b\b\b\b\b\b\b\b\b\b-thinking!\b\b\b\b\b\b\b\b\b\b\\thinking!\b\b\b\b\b\b\b\b\b\b|thinking!\b\b\b\b\b\b\b\b\b\b/thinking!\b\b\b\b\b\b\b\b\b\b-thinking!\b\b\b\b\b\b\b\b\b\b\\thinking!\b\b\b\b\b\b\b\b\b\b|thinking!\b\b\b\b\b\b\b\b\b\b/thinking!\b\b\b\b\b\b\b\b\b\b-thinking!\b\b\b\b\b\b\b\b\b\b\\thinking!\b\b\b\b\b\b\b\b\b\b|thinking!\b\b\b\b\b\b\b\b\b\b/thinking!\b\b\b\b\b\b\b\b\b\b-thinking!\b\b\b\b\b\b\b\b\b\b\\thinking!\b\b\b\b\b\b\b\b\b\b|thinking!\b\b\b\b\b\b\b\b\b\b/thinking!\b\b\b\b\b\b\b\b\b\b-thinking!\b\b\b\b\b\b\b\b\b\b\\thinking!\b\b\b\b\b\b\b\b\b\b|thinking!\b\b\b\b\b\b\b\b\b\b/thinking!\b\b\b\b\b\b\b\b\b\b-thinking!\b\b\b\b\b\b\b\b\b\b\\thinking!\b\b\b\b\b\b\b\b\b\b|thinking!\b\b\b\b\b\b\b\b\b\b/thinking!\b\b\b\b\b\b\b\b\b\b-thinking!\b\b\b\b\b\b\b\b\b\b\\thinking!\b\b\b\b\b\b\b\b\b\b|thinking!\b\b\b\b\b\b\b\b\b\b          \b\b\b\b\b\b\b\b\b\bAnswer: 42\n"
     ]
    }
   ],
   "source": [
    "main()"
   ]
  },
  {
   "cell_type": "code",
   "execution_count": null,
   "metadata": {},
   "outputs": [],
   "source": []
  }
 ],
 "metadata": {
  "kernelspec": {
   "display_name": "Python 3",
   "language": "python",
   "name": "python3"
  },
  "language_info": {
   "codemirror_mode": {
    "name": "ipython",
    "version": 3
   },
   "file_extension": ".py",
   "mimetype": "text/x-python",
   "name": "python",
   "nbconvert_exporter": "python",
   "pygments_lexer": "ipython3",
   "version": "3.6.1"
  }
 },
 "nbformat": 4,
 "nbformat_minor": 2
}
