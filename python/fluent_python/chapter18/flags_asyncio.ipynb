{
 "cells": [
  {
   "cell_type": "code",
   "execution_count": 1,
   "metadata": {},
   "outputs": [],
   "source": [
    "import asyncio\n",
    "import aiohttp\n",
    "import time\n",
    "import sys\n",
    "import os"
   ]
  },
  {
   "cell_type": "code",
   "execution_count": 2,
   "metadata": {},
   "outputs": [],
   "source": [
    "BASE_URL = 'http://flupy.org/data/flags'\n",
    "DEST_DIR = 'downloads'\n",
    "POP20_CC = ('CN','IN', 'US', 'ID', 'CN','IN', 'US', 'ID', 'CN','IN', 'US', 'ID', 'CN','IN', 'US', 'ID', 'CN','IN', 'US', 'ID')"
   ]
  },
  {
   "cell_type": "code",
   "execution_count": 6,
   "metadata": {},
   "outputs": [],
   "source": [
    "def seve_flag(img, filename):\n",
    "    import os\n",
    "    path = os.path.join(DEST_DIR, filename)\n",
    "    with open(path, 'wb') as f:\n",
    "        f.write(img)\n",
    "        \n",
    "def show(text):\n",
    "    print(text, end=' ')\n",
    "    sys.stdout.flush()\n",
    "    \n",
    "def main(download_many):\n",
    "    t = time.time()\n",
    "    count = download_many(POP20_CC)\n",
    "    t2 = time.time() - t\n",
    "    msg = '{count} download {t}'.format(count=count, t=t2)\n",
    "    print(msg)"
   ]
  },
  {
   "cell_type": "code",
   "execution_count": 4,
   "metadata": {},
   "outputs": [],
   "source": [
    "@asyncio.coroutine\n",
    "def get_flag(cc):\n",
    "    url = '{}/{cc}/{cc}/gif'.format(BASE_URL, cc=cc.lower())\n",
    "    resp = yield from aiohttp.ClientSession().get(url)\n",
    "    image = yield from resp.read()\n",
    "    return image\n",
    "\n",
    "@asyncio.coroutine\n",
    "def download_one(cc):\n",
    "    image = yield from get_flag(cc)\n",
    "    show(cc)\n",
    "    seve_flag(image, cc.lower()+'.gif') \n",
    "    return cc\n",
    "\n",
    "def download_many(cc_list):\n",
    "    loop = asyncio.get_event_loop()\n",
    "    to_do = [download_one(cc) for cc in sorted(cc_list)]\n",
    "    wait_coro = asyncio.wait(to_do)\n",
    "    res, _ = loop.run_until_complete(wait_coro)\n",
    "    loop.close()\n",
    "    return len(res)"
   ]
  },
  {
   "cell_type": "code",
   "execution_count": 7,
   "metadata": {},
   "outputs": [
    {
     "ename": "RuntimeError",
     "evalue": "Event loop is closed",
     "output_type": "error",
     "traceback": [
      "\u001b[0;31m---------------------------------------------------------------------------\u001b[0m",
      "\u001b[0;31mRuntimeError\u001b[0m                              Traceback (most recent call last)",
      "\u001b[0;32m<ipython-input-7-6222a4082c56>\u001b[0m in \u001b[0;36m<module>\u001b[0;34m()\u001b[0m\n\u001b[0;32m----> 1\u001b[0;31m \u001b[0mmain\u001b[0m\u001b[0;34m(\u001b[0m\u001b[0mdownload_many\u001b[0m\u001b[0;34m)\u001b[0m\u001b[0;34m\u001b[0m\u001b[0m\n\u001b[0m",
      "\u001b[0;32m<ipython-input-6-51689cbad294>\u001b[0m in \u001b[0;36mmain\u001b[0;34m(download_many)\u001b[0m\n\u001b[1;32m     11\u001b[0m \u001b[0;32mdef\u001b[0m \u001b[0mmain\u001b[0m\u001b[0;34m(\u001b[0m\u001b[0mdownload_many\u001b[0m\u001b[0;34m)\u001b[0m\u001b[0;34m:\u001b[0m\u001b[0;34m\u001b[0m\u001b[0m\n\u001b[1;32m     12\u001b[0m     \u001b[0mt\u001b[0m \u001b[0;34m=\u001b[0m \u001b[0mtime\u001b[0m\u001b[0;34m.\u001b[0m\u001b[0mtime\u001b[0m\u001b[0;34m(\u001b[0m\u001b[0;34m)\u001b[0m\u001b[0;34m\u001b[0m\u001b[0m\n\u001b[0;32m---> 13\u001b[0;31m     \u001b[0mcount\u001b[0m \u001b[0;34m=\u001b[0m \u001b[0mdownload_many\u001b[0m\u001b[0;34m(\u001b[0m\u001b[0mPOP20_CC\u001b[0m\u001b[0;34m)\u001b[0m\u001b[0;34m\u001b[0m\u001b[0m\n\u001b[0m\u001b[1;32m     14\u001b[0m     \u001b[0mt2\u001b[0m \u001b[0;34m=\u001b[0m \u001b[0mtime\u001b[0m\u001b[0;34m.\u001b[0m\u001b[0mtime\u001b[0m\u001b[0;34m(\u001b[0m\u001b[0;34m)\u001b[0m \u001b[0;34m-\u001b[0m \u001b[0mt\u001b[0m\u001b[0;34m\u001b[0m\u001b[0m\n\u001b[1;32m     15\u001b[0m     \u001b[0mmsg\u001b[0m \u001b[0;34m=\u001b[0m \u001b[0;34m'{count} download {t}'\u001b[0m\u001b[0;34m.\u001b[0m\u001b[0mformat\u001b[0m\u001b[0;34m(\u001b[0m\u001b[0mcount\u001b[0m\u001b[0;34m=\u001b[0m\u001b[0mcount\u001b[0m\u001b[0;34m,\u001b[0m \u001b[0mt\u001b[0m\u001b[0;34m=\u001b[0m\u001b[0mt2\u001b[0m\u001b[0;34m)\u001b[0m\u001b[0;34m\u001b[0m\u001b[0m\n",
      "\u001b[0;32m<ipython-input-4-3ceed6502069>\u001b[0m in \u001b[0;36mdownload_many\u001b[0;34m(cc_list)\u001b[0m\n\u001b[1;32m     17\u001b[0m     \u001b[0mto_do\u001b[0m \u001b[0;34m=\u001b[0m \u001b[0;34m[\u001b[0m\u001b[0mdownload_one\u001b[0m\u001b[0;34m(\u001b[0m\u001b[0mcc\u001b[0m\u001b[0;34m)\u001b[0m \u001b[0;32mfor\u001b[0m \u001b[0mcc\u001b[0m \u001b[0;32min\u001b[0m \u001b[0msorted\u001b[0m\u001b[0;34m(\u001b[0m\u001b[0mcc_list\u001b[0m\u001b[0;34m)\u001b[0m\u001b[0;34m]\u001b[0m\u001b[0;34m\u001b[0m\u001b[0m\n\u001b[1;32m     18\u001b[0m     \u001b[0mwait_coro\u001b[0m \u001b[0;34m=\u001b[0m \u001b[0masyncio\u001b[0m\u001b[0;34m.\u001b[0m\u001b[0mwait\u001b[0m\u001b[0;34m(\u001b[0m\u001b[0mto_do\u001b[0m\u001b[0;34m)\u001b[0m\u001b[0;34m\u001b[0m\u001b[0m\n\u001b[0;32m---> 19\u001b[0;31m     \u001b[0mres\u001b[0m\u001b[0;34m,\u001b[0m \u001b[0m_\u001b[0m \u001b[0;34m=\u001b[0m \u001b[0mloop\u001b[0m\u001b[0;34m.\u001b[0m\u001b[0mrun_until_complete\u001b[0m\u001b[0;34m(\u001b[0m\u001b[0mwait_coro\u001b[0m\u001b[0;34m)\u001b[0m\u001b[0;34m\u001b[0m\u001b[0m\n\u001b[0m\u001b[1;32m     20\u001b[0m     \u001b[0mloop\u001b[0m\u001b[0;34m.\u001b[0m\u001b[0mclose\u001b[0m\u001b[0;34m(\u001b[0m\u001b[0;34m)\u001b[0m\u001b[0;34m\u001b[0m\u001b[0m\n\u001b[1;32m     21\u001b[0m     \u001b[0;32mreturn\u001b[0m \u001b[0mlen\u001b[0m\u001b[0;34m(\u001b[0m\u001b[0mres\u001b[0m\u001b[0;34m)\u001b[0m\u001b[0;34m\u001b[0m\u001b[0m\n",
      "\u001b[0;32m/usr/local/Cellar/python3/3.6.1/Frameworks/Python.framework/Versions/3.6/lib/python3.6/asyncio/base_events.py\u001b[0m in \u001b[0;36mrun_until_complete\u001b[0;34m(self, future)\u001b[0m\n\u001b[1;32m    441\u001b[0m         \u001b[0mReturn\u001b[0m \u001b[0mthe\u001b[0m \u001b[0mFuture\u001b[0m\u001b[0;31m'\u001b[0m\u001b[0ms\u001b[0m \u001b[0mresult\u001b[0m\u001b[0;34m,\u001b[0m \u001b[0;32mor\u001b[0m \u001b[0;32mraise\u001b[0m \u001b[0mits\u001b[0m \u001b[0mexception\u001b[0m\u001b[0;34m.\u001b[0m\u001b[0;34m\u001b[0m\u001b[0m\n\u001b[1;32m    442\u001b[0m         \"\"\"\n\u001b[0;32m--> 443\u001b[0;31m         \u001b[0mself\u001b[0m\u001b[0;34m.\u001b[0m\u001b[0m_check_closed\u001b[0m\u001b[0;34m(\u001b[0m\u001b[0;34m)\u001b[0m\u001b[0;34m\u001b[0m\u001b[0m\n\u001b[0m\u001b[1;32m    444\u001b[0m \u001b[0;34m\u001b[0m\u001b[0m\n\u001b[1;32m    445\u001b[0m         \u001b[0mnew_task\u001b[0m \u001b[0;34m=\u001b[0m \u001b[0;32mnot\u001b[0m \u001b[0mfutures\u001b[0m\u001b[0;34m.\u001b[0m\u001b[0misfuture\u001b[0m\u001b[0;34m(\u001b[0m\u001b[0mfuture\u001b[0m\u001b[0;34m)\u001b[0m\u001b[0;34m\u001b[0m\u001b[0m\n",
      "\u001b[0;32m/usr/local/Cellar/python3/3.6.1/Frameworks/Python.framework/Versions/3.6/lib/python3.6/asyncio/base_events.py\u001b[0m in \u001b[0;36m_check_closed\u001b[0;34m(self)\u001b[0m\n\u001b[1;32m    355\u001b[0m     \u001b[0;32mdef\u001b[0m \u001b[0m_check_closed\u001b[0m\u001b[0;34m(\u001b[0m\u001b[0mself\u001b[0m\u001b[0;34m)\u001b[0m\u001b[0;34m:\u001b[0m\u001b[0;34m\u001b[0m\u001b[0m\n\u001b[1;32m    356\u001b[0m         \u001b[0;32mif\u001b[0m \u001b[0mself\u001b[0m\u001b[0;34m.\u001b[0m\u001b[0m_closed\u001b[0m\u001b[0;34m:\u001b[0m\u001b[0;34m\u001b[0m\u001b[0m\n\u001b[0;32m--> 357\u001b[0;31m             \u001b[0;32mraise\u001b[0m \u001b[0mRuntimeError\u001b[0m\u001b[0;34m(\u001b[0m\u001b[0;34m'Event loop is closed'\u001b[0m\u001b[0;34m)\u001b[0m\u001b[0;34m\u001b[0m\u001b[0m\n\u001b[0m\u001b[1;32m    358\u001b[0m \u001b[0;34m\u001b[0m\u001b[0m\n\u001b[1;32m    359\u001b[0m     \u001b[0;32mdef\u001b[0m \u001b[0m_asyncgen_finalizer_hook\u001b[0m\u001b[0;34m(\u001b[0m\u001b[0mself\u001b[0m\u001b[0;34m,\u001b[0m \u001b[0magen\u001b[0m\u001b[0;34m)\u001b[0m\u001b[0;34m:\u001b[0m\u001b[0;34m\u001b[0m\u001b[0m\n",
      "\u001b[0;31mRuntimeError\u001b[0m: Event loop is closed"
     ]
    }
   ],
   "source": [
    "main(download_many)"
   ]
  },
  {
   "cell_type": "code",
   "execution_count": 6,
   "metadata": {},
   "outputs": [],
   "source": []
  },
  {
   "cell_type": "code",
   "execution_count": 7,
   "metadata": {},
   "outputs": [
    {
     "name": "stderr",
     "output_type": "stream",
     "text": [
      "Unclosed client session\n",
      "client_session: <aiohttp.client.ClientSession object at 0x103f54080>\n",
      "Unclosed connector\n",
      "connections: ['[(<aiohttp.client_proto.ResponseHandler object at 0x1040a7128>, 352858.955318774)]']\n",
      "connector: <aiohttp.connector.TCPConnector object at 0x104042e48>\n"
     ]
    },
    {
     "name": "stdout",
     "output_type": "stream",
     "text": [
      "IN "
     ]
    },
    {
     "name": "stderr",
     "output_type": "stream",
     "text": [
      "Unclosed client session\n",
      "client_session: <aiohttp.client.ClientSession object at 0x103f542e8>\n",
      "Unclosed connector\n",
      "connections: ['[(<aiohttp.client_proto.ResponseHandler object at 0x1040a7160>, 352858.963466077)]']\n",
      "connector: <aiohttp.connector.TCPConnector object at 0x1040856a0>\n"
     ]
    },
    {
     "name": "stdout",
     "output_type": "stream",
     "text": [
      "CN "
     ]
    },
    {
     "name": "stderr",
     "output_type": "stream",
     "text": [
      "Unclosed client session\n",
      "client_session: <aiohttp.client.ClientSession object at 0x103f48fd0>\n",
      "Unclosed connector\n",
      "connections: ['[(<aiohttp.client_proto.ResponseHandler object at 0x10409ba58>, 352858.969295956)]']\n",
      "connector: <aiohttp.connector.TCPConnector object at 0x104042a20>\n"
     ]
    },
    {
     "name": "stdout",
     "output_type": "stream",
     "text": [
      "US "
     ]
    },
    {
     "name": "stderr",
     "output_type": "stream",
     "text": [
      "Unclosed client session\n",
      "client_session: <aiohttp.client.ClientSession object at 0x103f54240>\n",
      "Unclosed connector\n",
      "connections: ['[(<aiohttp.client_proto.ResponseHandler object at 0x10409b630>, 352858.974718722)]']\n",
      "connector: <aiohttp.connector.TCPConnector object at 0x104079a90>\n"
     ]
    },
    {
     "name": "stdout",
     "output_type": "stream",
     "text": [
      "IN "
     ]
    },
    {
     "name": "stderr",
     "output_type": "stream",
     "text": [
      "Unclosed client session\n",
      "client_session: <aiohttp.client.ClientSession object at 0x103f54128>\n",
      "Unclosed connector\n",
      "connections: ['[(<aiohttp.client_proto.ResponseHandler object at 0x10409b6a0>, 352858.981254486)]']\n",
      "connector: <aiohttp.connector.TCPConnector object at 0x10406d6a0>\n"
     ]
    },
    {
     "name": "stdout",
     "output_type": "stream",
     "text": [
      "ID "
     ]
    },
    {
     "name": "stderr",
     "output_type": "stream",
     "text": [
      "Unclosed client session\n",
      "client_session: <aiohttp.client.ClientSession object at 0x103f48f28>\n",
      "Unclosed connector\n",
      "connections: ['[(<aiohttp.client_proto.ResponseHandler object at 0x10409b710>, 352858.990779408)]']\n",
      "connector: <aiohttp.connector.TCPConnector object at 0x103f544a8>\n"
     ]
    },
    {
     "name": "stdout",
     "output_type": "stream",
     "text": [
      "IN "
     ]
    },
    {
     "name": "stderr",
     "output_type": "stream",
     "text": [
      "Unclosed client session\n",
      "client_session: <aiohttp.client.ClientSession object at 0x103f54390>\n",
      "Unclosed connector\n",
      "connections: ['[(<aiohttp.client_proto.ResponseHandler object at 0x10409b470>, 352858.999666183)]']\n",
      "connector: <aiohttp.connector.TCPConnector object at 0x1040912b0>\n"
     ]
    },
    {
     "name": "stdout",
     "output_type": "stream",
     "text": [
      "ID "
     ]
    },
    {
     "name": "stderr",
     "output_type": "stream",
     "text": [
      "Unclosed client session\n",
      "client_session: <aiohttp.client.ClientSession object at 0x103f541d0>\n",
      "Unclosed connector\n",
      "connections: ['[(<aiohttp.client_proto.ResponseHandler object at 0x10409b780>, 352859.00812964)]']\n",
      "connector: <aiohttp.connector.TCPConnector object at 0x1040792b0>\n"
     ]
    },
    {
     "name": "stdout",
     "output_type": "stream",
     "text": [
      "ID "
     ]
    },
    {
     "name": "stderr",
     "output_type": "stream",
     "text": [
      "Unclosed client session\n",
      "client_session: <aiohttp.client.ClientSession object at 0x103f54208>\n",
      "Unclosed connector\n",
      "connections: ['[(<aiohttp.client_proto.ResponseHandler object at 0x1040a7b70>, 352859.016074277)]']\n",
      "connector: <aiohttp.connector.TCPConnector object at 0x1040796a0>\n"
     ]
    },
    {
     "name": "stdout",
     "output_type": "stream",
     "text": [
      "US "
     ]
    },
    {
     "name": "stderr",
     "output_type": "stream",
     "text": [
      "Unclosed client session\n",
      "client_session: <aiohttp.client.ClientSession object at 0x103f54358>\n",
      "Unclosed connector\n",
      "connections: ['[(<aiohttp.client_proto.ResponseHandler object at 0x10409b438>, 352859.02168995)]']\n",
      "connector: <aiohttp.connector.TCPConnector object at 0x104085e80>\n"
     ]
    },
    {
     "name": "stdout",
     "output_type": "stream",
     "text": [
      "IN "
     ]
    },
    {
     "name": "stderr",
     "output_type": "stream",
     "text": [
      "Unclosed client session\n",
      "client_session: <aiohttp.client.ClientSession object at 0x103f542b0>\n",
      "Unclosed connector\n",
      "connections: ['[(<aiohttp.client_proto.ResponseHandler object at 0x10409b2e8>, 352859.028532312)]']\n",
      "connector: <aiohttp.connector.TCPConnector object at 0x1040852b0>\n"
     ]
    },
    {
     "name": "stdout",
     "output_type": "stream",
     "text": [
      "CN "
     ]
    },
    {
     "name": "stderr",
     "output_type": "stream",
     "text": [
      "Unclosed client session\n",
      "client_session: <aiohttp.client.ClientSession object at 0x102768da0>\n",
      "Unclosed connector\n",
      "connections: ['[(<aiohttp.client_proto.ResponseHandler object at 0x10409b7b8>, 352859.036778326)]']\n",
      "connector: <aiohttp.connector.TCPConnector object at 0x1040425f8>\n"
     ]
    },
    {
     "name": "stdout",
     "output_type": "stream",
     "text": [
      "CN "
     ]
    },
    {
     "name": "stderr",
     "output_type": "stream",
     "text": [
      "Unclosed client session\n",
      "client_session: <aiohttp.client.ClientSession object at 0x103f54438>\n",
      "Unclosed connector\n",
      "connections: ['[(<aiohttp.client_proto.ResponseHandler object at 0x10409b400>, 352859.046257902)]']\n",
      "connector: <aiohttp.connector.TCPConnector object at 0x104091e80>\n"
     ]
    },
    {
     "name": "stdout",
     "output_type": "stream",
     "text": [
      "US "
     ]
    },
    {
     "name": "stderr",
     "output_type": "stream",
     "text": [
      "Unclosed client session\n",
      "client_session: <aiohttp.client.ClientSession object at 0x103f540f0>\n",
      "Unclosed connector\n",
      "connections: ['[(<aiohttp.client_proto.ResponseHandler object at 0x10409bba8>, 352859.05166621)]']\n",
      "connector: <aiohttp.connector.TCPConnector object at 0x10406d278>\n"
     ]
    },
    {
     "name": "stdout",
     "output_type": "stream",
     "text": [
      "ID "
     ]
    },
    {
     "name": "stderr",
     "output_type": "stream",
     "text": [
      "Unclosed client session\n",
      "client_session: <aiohttp.client.ClientSession object at 0x103f54278>\n",
      "Unclosed connector\n",
      "connections: ['[(<aiohttp.client_proto.ResponseHandler object at 0x10409b278>, 352859.057873983)]']\n",
      "connector: <aiohttp.connector.TCPConnector object at 0x104079e80>\n"
     ]
    },
    {
     "name": "stdout",
     "output_type": "stream",
     "text": [
      "US "
     ]
    },
    {
     "name": "stderr",
     "output_type": "stream",
     "text": [
      "Unclosed client session\n",
      "client_session: <aiohttp.client.ClientSession object at 0x103f54320>\n",
      "Unclosed connector\n",
      "connections: ['[(<aiohttp.client_proto.ResponseHandler object at 0x10409b748>, 352859.063103698)]']\n",
      "connector: <aiohttp.connector.TCPConnector object at 0x104085a90>\n"
     ]
    },
    {
     "name": "stdout",
     "output_type": "stream",
     "text": [
      "CN "
     ]
    },
    {
     "name": "stderr",
     "output_type": "stream",
     "text": [
      "Unclosed client session\n",
      "client_session: <aiohttp.client.ClientSession object at 0x103f54198>\n",
      "Unclosed connector\n",
      "connections: ['[(<aiohttp.client_proto.ResponseHandler object at 0x10409b550>, 352859.070952058)]']\n",
      "connector: <aiohttp.connector.TCPConnector object at 0x10406de80>\n"
     ]
    },
    {
     "name": "stdout",
     "output_type": "stream",
     "text": [
      "CN "
     ]
    },
    {
     "name": "stderr",
     "output_type": "stream",
     "text": [
      "Unclosed client session\n",
      "client_session: <aiohttp.client.ClientSession object at 0x103f54400>\n",
      "Unclosed connector\n",
      "connections: ['[(<aiohttp.client_proto.ResponseHandler object at 0x104079a20>, 352859.077854835)]']\n",
      "connector: <aiohttp.connector.TCPConnector object at 0x104091a90>\n"
     ]
    },
    {
     "name": "stdout",
     "output_type": "stream",
     "text": [
      "ID "
     ]
    },
    {
     "name": "stderr",
     "output_type": "stream",
     "text": [
      "Unclosed client session\n",
      "client_session: <aiohttp.client.ClientSession object at 0x103f543c8>\n",
      "Unclosed connector\n",
      "connections: ['[(<aiohttp.client_proto.ResponseHandler object at 0x10409bbe0>, 352859.088405673)]']\n",
      "connector: <aiohttp.connector.TCPConnector object at 0x1040916a0>\n"
     ]
    },
    {
     "name": "stdout",
     "output_type": "stream",
     "text": [
      "US "
     ]
    },
    {
     "name": "stderr",
     "output_type": "stream",
     "text": [
      "Unclosed client session\n",
      "client_session: <aiohttp.client.ClientSession object at 0x103f54160>\n",
      "Unclosed connector\n",
      "connections: ['[(<aiohttp.client_proto.ResponseHandler object at 0x1040a7dd8>, 352859.095017252)]']\n",
      "connector: <aiohttp.connector.TCPConnector object at 0x10406da90>\n"
     ]
    },
    {
     "name": "stdout",
     "output_type": "stream",
     "text": [
      "IN "
     ]
    },
    {
     "name": "stderr",
     "output_type": "stream",
     "text": [
      "Task exception was never retrieved\n",
      "future: <Task finished coro=<download_one() done, defined at <ipython-input-5-d2a00edbf525>:1> exception=NameError(\"name 'os' is not defined\",)>\n",
      "Traceback (most recent call last):\n",
      "  File \"<ipython-input-5-d2a00edbf525>\", line 5, in download_one\n",
      "    seve_flag(image, cc.lower()+'.gif')\n",
      "  File \"<ipython-input-3-04db5acdf7a2>\", line 2, in seve_flag\n",
      "    path = os.path.join(DEST_DIR, filename)\n",
      "NameError: name 'os' is not defined\n",
      "Task exception was never retrieved\n",
      "future: <Task finished coro=<download_one() done, defined at <ipython-input-5-d2a00edbf525>:1> exception=NameError(\"name 'os' is not defined\",)>\n",
      "Traceback (most recent call last):\n",
      "  File \"<ipython-input-5-d2a00edbf525>\", line 5, in download_one\n",
      "    seve_flag(image, cc.lower()+'.gif')\n",
      "  File \"<ipython-input-3-04db5acdf7a2>\", line 2, in seve_flag\n",
      "    path = os.path.join(DEST_DIR, filename)\n",
      "NameError: name 'os' is not defined\n",
      "Task exception was never retrieved\n",
      "future: <Task finished coro=<download_one() done, defined at <ipython-input-5-d2a00edbf525>:1> exception=NameError(\"name 'os' is not defined\",)>\n",
      "Traceback (most recent call last):\n",
      "  File \"<ipython-input-5-d2a00edbf525>\", line 5, in download_one\n",
      "    seve_flag(image, cc.lower()+'.gif')\n",
      "  File \"<ipython-input-3-04db5acdf7a2>\", line 2, in seve_flag\n",
      "    path = os.path.join(DEST_DIR, filename)\n",
      "NameError: name 'os' is not defined\n",
      "Task exception was never retrieved\n",
      "future: <Task finished coro=<download_one() done, defined at <ipython-input-5-d2a00edbf525>:1> exception=NameError(\"name 'os' is not defined\",)>\n",
      "Traceback (most recent call last):\n",
      "  File \"<ipython-input-5-d2a00edbf525>\", line 5, in download_one\n",
      "    seve_flag(image, cc.lower()+'.gif')\n",
      "  File \"<ipython-input-3-04db5acdf7a2>\", line 2, in seve_flag\n",
      "    path = os.path.join(DEST_DIR, filename)\n",
      "NameError: name 'os' is not defined\n",
      "Task exception was never retrieved\n",
      "future: <Task finished coro=<download_one() done, defined at <ipython-input-5-d2a00edbf525>:1> exception=NameError(\"name 'os' is not defined\",)>\n",
      "Traceback (most recent call last):\n",
      "  File \"<ipython-input-5-d2a00edbf525>\", line 5, in download_one\n",
      "    seve_flag(image, cc.lower()+'.gif')\n",
      "  File \"<ipython-input-3-04db5acdf7a2>\", line 2, in seve_flag\n",
      "    path = os.path.join(DEST_DIR, filename)\n",
      "NameError: name 'os' is not defined\n",
      "Task exception was never retrieved\n",
      "future: <Task finished coro=<download_one() done, defined at <ipython-input-5-d2a00edbf525>:1> exception=NameError(\"name 'os' is not defined\",)>\n",
      "Traceback (most recent call last):\n",
      "  File \"<ipython-input-5-d2a00edbf525>\", line 5, in download_one\n",
      "    seve_flag(image, cc.lower()+'.gif')\n",
      "  File \"<ipython-input-3-04db5acdf7a2>\", line 2, in seve_flag\n",
      "    path = os.path.join(DEST_DIR, filename)\n",
      "NameError: name 'os' is not defined\n",
      "Task exception was never retrieved\n",
      "future: <Task finished coro=<download_one() done, defined at <ipython-input-5-d2a00edbf525>:1> exception=NameError(\"name 'os' is not defined\",)>\n",
      "Traceback (most recent call last):\n",
      "  File \"<ipython-input-5-d2a00edbf525>\", line 5, in download_one\n",
      "    seve_flag(image, cc.lower()+'.gif')\n",
      "  File \"<ipython-input-3-04db5acdf7a2>\", line 2, in seve_flag\n",
      "    path = os.path.join(DEST_DIR, filename)\n",
      "NameError: name 'os' is not defined\n",
      "Task exception was never retrieved\n",
      "future: <Task finished coro=<download_one() done, defined at <ipython-input-5-d2a00edbf525>:1> exception=NameError(\"name 'os' is not defined\",)>\n",
      "Traceback (most recent call last):\n",
      "  File \"<ipython-input-5-d2a00edbf525>\", line 5, in download_one\n",
      "    seve_flag(image, cc.lower()+'.gif')\n",
      "  File \"<ipython-input-3-04db5acdf7a2>\", line 2, in seve_flag\n",
      "    path = os.path.join(DEST_DIR, filename)\n",
      "NameError: name 'os' is not defined\n",
      "Task exception was never retrieved\n",
      "future: <Task finished coro=<download_one() done, defined at <ipython-input-5-d2a00edbf525>:1> exception=NameError(\"name 'os' is not defined\",)>\n",
      "Traceback (most recent call last):\n",
      "  File \"<ipython-input-5-d2a00edbf525>\", line 5, in download_one\n",
      "    seve_flag(image, cc.lower()+'.gif')\n",
      "  File \"<ipython-input-3-04db5acdf7a2>\", line 2, in seve_flag\n",
      "    path = os.path.join(DEST_DIR, filename)\n",
      "NameError: name 'os' is not defined\n",
      "Task exception was never retrieved\n",
      "future: <Task finished coro=<download_one() done, defined at <ipython-input-5-d2a00edbf525>:1> exception=NameError(\"name 'os' is not defined\",)>\n",
      "Traceback (most recent call last):\n",
      "  File \"<ipython-input-5-d2a00edbf525>\", line 5, in download_one\n",
      "    seve_flag(image, cc.lower()+'.gif')\n",
      "  File \"<ipython-input-3-04db5acdf7a2>\", line 2, in seve_flag\n",
      "    path = os.path.join(DEST_DIR, filename)\n",
      "NameError: name 'os' is not defined\n",
      "Task exception was never retrieved\n",
      "future: <Task finished coro=<download_one() done, defined at <ipython-input-5-d2a00edbf525>:1> exception=NameError(\"name 'os' is not defined\",)>\n",
      "Traceback (most recent call last):\n",
      "  File \"<ipython-input-5-d2a00edbf525>\", line 5, in download_one\n",
      "    seve_flag(image, cc.lower()+'.gif')\n",
      "  File \"<ipython-input-3-04db5acdf7a2>\", line 2, in seve_flag\n",
      "    path = os.path.join(DEST_DIR, filename)\n",
      "NameError: name 'os' is not defined\n",
      "Task exception was never retrieved\n",
      "future: <Task finished coro=<download_one() done, defined at <ipython-input-5-d2a00edbf525>:1> exception=NameError(\"name 'os' is not defined\",)>\n",
      "Traceback (most recent call last):\n",
      "  File \"<ipython-input-5-d2a00edbf525>\", line 5, in download_one\n",
      "    seve_flag(image, cc.lower()+'.gif')\n",
      "  File \"<ipython-input-3-04db5acdf7a2>\", line 2, in seve_flag\n",
      "    path = os.path.join(DEST_DIR, filename)\n",
      "NameError: name 'os' is not defined\n",
      "Task exception was never retrieved\n",
      "future: <Task finished coro=<download_one() done, defined at <ipython-input-5-d2a00edbf525>:1> exception=NameError(\"name 'os' is not defined\",)>\n",
      "Traceback (most recent call last):\n",
      "  File \"<ipython-input-5-d2a00edbf525>\", line 5, in download_one\n",
      "    seve_flag(image, cc.lower()+'.gif')\n",
      "  File \"<ipython-input-3-04db5acdf7a2>\", line 2, in seve_flag\n",
      "    path = os.path.join(DEST_DIR, filename)\n",
      "NameError: name 'os' is not defined\n",
      "Task exception was never retrieved\n",
      "future: <Task finished coro=<download_one() done, defined at <ipython-input-5-d2a00edbf525>:1> exception=NameError(\"name 'os' is not defined\",)>\n",
      "Traceback (most recent call last):\n",
      "  File \"<ipython-input-5-d2a00edbf525>\", line 5, in download_one\n",
      "    seve_flag(image, cc.lower()+'.gif')\n",
      "  File \"<ipython-input-3-04db5acdf7a2>\", line 2, in seve_flag\n",
      "    path = os.path.join(DEST_DIR, filename)\n",
      "NameError: name 'os' is not defined\n",
      "Task exception was never retrieved\n",
      "future: <Task finished coro=<download_one() done, defined at <ipython-input-5-d2a00edbf525>:1> exception=NameError(\"name 'os' is not defined\",)>\n",
      "Traceback (most recent call last):\n",
      "  File \"<ipython-input-5-d2a00edbf525>\", line 5, in download_one\n",
      "    seve_flag(image, cc.lower()+'.gif')\n",
      "  File \"<ipython-input-3-04db5acdf7a2>\", line 2, in seve_flag\n",
      "    path = os.path.join(DEST_DIR, filename)\n",
      "NameError: name 'os' is not defined\n",
      "Task exception was never retrieved\n",
      "future: <Task finished coro=<download_one() done, defined at <ipython-input-5-d2a00edbf525>:1> exception=NameError(\"name 'os' is not defined\",)>\n",
      "Traceback (most recent call last):\n",
      "  File \"<ipython-input-5-d2a00edbf525>\", line 5, in download_one\n",
      "    seve_flag(image, cc.lower()+'.gif')\n",
      "  File \"<ipython-input-3-04db5acdf7a2>\", line 2, in seve_flag\n",
      "    path = os.path.join(DEST_DIR, filename)\n",
      "NameError: name 'os' is not defined\n",
      "Task exception was never retrieved\n",
      "future: <Task finished coro=<download_one() done, defined at <ipython-input-5-d2a00edbf525>:1> exception=NameError(\"name 'os' is not defined\",)>\n",
      "Traceback (most recent call last):\n",
      "  File \"<ipython-input-5-d2a00edbf525>\", line 5, in download_one\n",
      "    seve_flag(image, cc.lower()+'.gif')\n",
      "  File \"<ipython-input-3-04db5acdf7a2>\", line 2, in seve_flag\n",
      "    path = os.path.join(DEST_DIR, filename)\n",
      "NameError: name 'os' is not defined\n",
      "Task exception was never retrieved\n",
      "future: <Task finished coro=<download_one() done, defined at <ipython-input-5-d2a00edbf525>:1> exception=NameError(\"name 'os' is not defined\",)>\n",
      "Traceback (most recent call last):\n",
      "  File \"<ipython-input-5-d2a00edbf525>\", line 5, in download_one\n",
      "    seve_flag(image, cc.lower()+'.gif')\n",
      "  File \"<ipython-input-3-04db5acdf7a2>\", line 2, in seve_flag\n",
      "    path = os.path.join(DEST_DIR, filename)\n",
      "NameError: name 'os' is not defined\n",
      "Task exception was never retrieved\n",
      "future: <Task finished coro=<download_one() done, defined at <ipython-input-5-d2a00edbf525>:1> exception=NameError(\"name 'os' is not defined\",)>\n",
      "Traceback (most recent call last):\n",
      "  File \"<ipython-input-5-d2a00edbf525>\", line 5, in download_one\n",
      "    seve_flag(image, cc.lower()+'.gif')\n",
      "  File \"<ipython-input-3-04db5acdf7a2>\", line 2, in seve_flag\n",
      "    path = os.path.join(DEST_DIR, filename)\n",
      "NameError: name 'os' is not defined\n",
      "Task exception was never retrieved\n",
      "future: <Task finished coro=<download_one() done, defined at <ipython-input-5-d2a00edbf525>:1> exception=NameError(\"name 'os' is not defined\",)>\n",
      "Traceback (most recent call last):\n",
      "  File \"<ipython-input-5-d2a00edbf525>\", line 5, in download_one\n",
      "    seve_flag(image, cc.lower()+'.gif')\n",
      "  File \"<ipython-input-3-04db5acdf7a2>\", line 2, in seve_flag\n",
      "    path = os.path.join(DEST_DIR, filename)\n",
      "NameError: name 'os' is not defined\n"
     ]
    },
    {
     "name": "stdout",
     "output_type": "stream",
     "text": [
      "20 download 0.6584129333496094\n"
     ]
    }
   ],
   "source": []
  },
  {
   "cell_type": "code",
   "execution_count": null,
   "metadata": {},
   "outputs": [],
   "source": []
  }
 ],
 "metadata": {
  "kernelspec": {
   "display_name": "Python 3",
   "language": "python",
   "name": "python3"
  },
  "language_info": {
   "codemirror_mode": {
    "name": "ipython",
    "version": 3
   },
   "file_extension": ".py",
   "mimetype": "text/x-python",
   "name": "python",
   "nbconvert_exporter": "python",
   "pygments_lexer": "ipython3",
   "version": "3.6.1"
  }
 },
 "nbformat": 4,
 "nbformat_minor": 2
}
