{
 "cells": [
  {
   "cell_type": "code",
   "execution_count": 6,
   "metadata": {},
   "outputs": [],
   "source": [
    "import collections\n",
    "\n",
    "Card = collections.namedtuple('Card', ['rank', 'suit'])"
   ]
  },
  {
   "cell_type": "code",
   "execution_count": 29,
   "metadata": {},
   "outputs": [],
   "source": [
    "class FrenchDeck2(collections.MutableSequence):\n",
    "    ranks = [str(n) for n in range(2, 11)] + list('JQKA')\n",
    "    suits = 'S D C H'.split()\n",
    "    \n",
    "    def __init__(self):\n",
    "        self._cards = [Card(rank, suit) for rank in self.ranks for suit in self.suits]\n",
    "        \n",
    "    def __len__(self):\n",
    "        return len(self._cards)\n",
    "    \n",
    "    def __getitem__(self, position):\n",
    "        return self._cards[postition]\n",
    "    \n",
    "    def __delitem__(self, position):\n",
    "        del self._cards[position]\n",
    "        \n",
    "    def __setitem__(self, position, value):\n",
    "        self._cards[position] = value\n",
    "        \n",
    "    def insert(self, position, value):\n",
    "        self._cards.insert(position, value)"
   ]
  },
  {
   "cell_type": "code",
   "execution_count": 30,
   "metadata": {},
   "outputs": [],
   "source": [
    "frenck_deck = FrenchDeck2()"
   ]
  },
  {
   "cell_type": "code",
   "execution_count": 31,
   "metadata": {},
   "outputs": [
    {
     "data": {
      "text/plain": [
       "[Card(rank='2', suit='S'),\n",
       " Card(rank='2', suit='D'),\n",
       " Card(rank='2', suit='C'),\n",
       " Card(rank='2', suit='H'),\n",
       " Card(rank='3', suit='S'),\n",
       " Card(rank='3', suit='D'),\n",
       " Card(rank='3', suit='C'),\n",
       " Card(rank='3', suit='H'),\n",
       " Card(rank='4', suit='S'),\n",
       " Card(rank='4', suit='D'),\n",
       " Card(rank='4', suit='C'),\n",
       " Card(rank='4', suit='H'),\n",
       " Card(rank='5', suit='S'),\n",
       " Card(rank='5', suit='D'),\n",
       " Card(rank='5', suit='C'),\n",
       " Card(rank='5', suit='H'),\n",
       " Card(rank='6', suit='S'),\n",
       " Card(rank='6', suit='D'),\n",
       " Card(rank='6', suit='C'),\n",
       " Card(rank='6', suit='H'),\n",
       " Card(rank='7', suit='S'),\n",
       " Card(rank='7', suit='D'),\n",
       " Card(rank='7', suit='C'),\n",
       " Card(rank='7', suit='H'),\n",
       " Card(rank='8', suit='S'),\n",
       " Card(rank='8', suit='D'),\n",
       " Card(rank='8', suit='C'),\n",
       " Card(rank='8', suit='H'),\n",
       " Card(rank='9', suit='S'),\n",
       " Card(rank='9', suit='D'),\n",
       " Card(rank='9', suit='C'),\n",
       " Card(rank='9', suit='H'),\n",
       " Card(rank='10', suit='S'),\n",
       " Card(rank='10', suit='D'),\n",
       " Card(rank='10', suit='C'),\n",
       " Card(rank='10', suit='H'),\n",
       " Card(rank='J', suit='S'),\n",
       " Card(rank='J', suit='D'),\n",
       " Card(rank='J', suit='C'),\n",
       " Card(rank='J', suit='H'),\n",
       " Card(rank='Q', suit='S'),\n",
       " Card(rank='Q', suit='D'),\n",
       " Card(rank='Q', suit='C'),\n",
       " Card(rank='Q', suit='H'),\n",
       " Card(rank='K', suit='S'),\n",
       " Card(rank='K', suit='D'),\n",
       " Card(rank='K', suit='C'),\n",
       " Card(rank='K', suit='H'),\n",
       " Card(rank='A', suit='S'),\n",
       " Card(rank='A', suit='D'),\n",
       " Card(rank='A', suit='C'),\n",
       " Card(rank='A', suit='H')]"
      ]
     },
     "execution_count": 31,
     "metadata": {},
     "output_type": "execute_result"
    }
   ],
   "source": [
    "frenck_deck._cards"
   ]
  },
  {
   "cell_type": "code",
   "execution_count": 32,
   "metadata": {},
   "outputs": [
    {
     "data": {
      "text/plain": [
       "['S', 'D', 'C', 'H']"
      ]
     },
     "execution_count": 32,
     "metadata": {},
     "output_type": "execute_result"
    }
   ],
   "source": [
    "frenck_deck.suits"
   ]
  },
  {
   "cell_type": "code",
   "execution_count": null,
   "metadata": {},
   "outputs": [],
   "source": []
  }
 ],
 "metadata": {
  "kernelspec": {
   "display_name": "Python 3",
   "language": "python",
   "name": "python3"
  },
  "language_info": {
   "codemirror_mode": {
    "name": "ipython",
    "version": 3
   },
   "file_extension": ".py",
   "mimetype": "text/x-python",
   "name": "python",
   "nbconvert_exporter": "python",
   "pygments_lexer": "ipython3",
   "version": "3.6.1"
  }
 },
 "nbformat": 4,
 "nbformat_minor": 2
}
