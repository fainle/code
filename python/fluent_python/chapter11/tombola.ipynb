{
 "cells": [
  {
   "cell_type": "code",
   "execution_count": 7,
   "metadata": {},
   "outputs": [],
   "source": [
    "import abc"
   ]
  },
  {
   "cell_type": "code",
   "execution_count": 8,
   "metadata": {},
   "outputs": [],
   "source": [
    "class Tombola(abc.ABC):\n",
    "    \n",
    "    @abc.abstractmethod\n",
    "    def load(self, iterable):\n",
    "        \"\"\"\n",
    "        从可迭代对象中添加元素。\n",
    "        \"\"\"\n",
    "        \n",
    "    @abc.abstractmethod\n",
    "    def pick(self):\n",
    "        \"\"\"\n",
    "        随机删除元素，然后将其返回。\n",
    "        如果实例为空，这个方法应该抛出`LookupError`\n",
    "        \"\"\"\n",
    "    \n",
    "    def loaded(self):\n",
    "        \"\"\"\n",
    "        如果至少有一个元素，返回`True`，否则返回`False`.\n",
    "        \"\"\"\n",
    "        return bool(self.inspect())\n",
    "    \n",
    "    def inspect(self):\n",
    "        \"\"\"\n",
    "        返回一个有序元祖，由当前元素构成。\n",
    "        \"\"\"\n",
    "        items = []\n",
    "        while True:\n",
    "            try:\n",
    "                items.append(self.pick())\n",
    "            except LookupError:\n",
    "                break\n",
    "        self.load(items)\n",
    "        return tuple(sorted(items))"
   ]
  },
  {
   "cell_type": "code",
   "execution_count": 9,
   "metadata": {},
   "outputs": [],
   "source": [
    "class Fake(Tombola):\n",
    "    def pick(self):\n",
    "        return 13"
   ]
  },
  {
   "cell_type": "code",
   "execution_count": 10,
   "metadata": {},
   "outputs": [
    {
     "data": {
      "text/plain": [
       "__main__.Fake"
      ]
     },
     "execution_count": 10,
     "metadata": {},
     "output_type": "execute_result"
    }
   ],
   "source": [
    "Fake"
   ]
  },
  {
   "cell_type": "code",
   "execution_count": 11,
   "metadata": {},
   "outputs": [
    {
     "ename": "TypeError",
     "evalue": "Can't instantiate abstract class Fake with abstract methods load",
     "output_type": "error",
     "traceback": [
      "\u001b[0;31m---------------------------------------------------------------------------\u001b[0m",
      "\u001b[0;31mTypeError\u001b[0m                                 Traceback (most recent call last)",
      "\u001b[0;32m<ipython-input-11-a646eb69a2f6>\u001b[0m in \u001b[0;36m<module>\u001b[0;34m()\u001b[0m\n\u001b[0;32m----> 1\u001b[0;31m \u001b[0mf\u001b[0m \u001b[0;34m=\u001b[0m \u001b[0mFake\u001b[0m\u001b[0;34m(\u001b[0m\u001b[0;34m)\u001b[0m\u001b[0;34m\u001b[0m\u001b[0m\n\u001b[0m",
      "\u001b[0;31mTypeError\u001b[0m: Can't instantiate abstract class Fake with abstract methods load"
     ]
    }
   ],
   "source": [
    "f = Fake()"
   ]
  },
  {
   "cell_type": "code",
   "execution_count": null,
   "metadata": {},
   "outputs": [],
   "source": []
  }
 ],
 "metadata": {
  "kernelspec": {
   "display_name": "Python 3",
   "language": "python",
   "name": "python3"
  },
  "language_info": {
   "codemirror_mode": {
    "name": "ipython",
    "version": 3
   },
   "file_extension": ".py",
   "mimetype": "text/x-python",
   "name": "python",
   "nbconvert_exporter": "python",
   "pygments_lexer": "ipython3",
   "version": "3.6.1"
  }
 },
 "nbformat": 4,
 "nbformat_minor": 2
}
