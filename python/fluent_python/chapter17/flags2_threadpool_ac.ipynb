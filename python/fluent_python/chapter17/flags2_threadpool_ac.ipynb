{
 "cells": [
  {
   "cell_type": "code",
   "execution_count": 13,
   "metadata": {},
   "outputs": [],
   "source": [
    "from concurrent import futures\n",
    "\n",
    "import os\n",
    "import time\n",
    "import sys\n",
    "import requests\n",
    "import collections\n",
    "import tqdm"
   ]
  },
  {
   "cell_type": "code",
   "execution_count": 4,
   "metadata": {},
   "outputs": [],
   "source": [
    "POP20_CC = ('CN','IN', 'US', 'ID', 'CN','IN', 'US', 'ID', 'CN','IN', 'US', 'ID', 'CN','IN', 'US', 'ID', 'CN','IN', 'US', 'ID')\n",
    "BASE_URL = 'http://flupy.org/data/flags'\n",
    "DEST_DIR = 'downloads'\n",
    "MAX_WORKERS = 20"
   ]
  },
  {
   "cell_type": "code",
   "execution_count": 5,
   "metadata": {},
   "outputs": [],
   "source": [
    "def seve_flag(img, filename):\n",
    "    path = os.path.join(DEST_DIR, filename)\n",
    "    with open(path, 'wb') as f:\n",
    "        f.write(img)\n",
    "        \n",
    "def main(download_many):\n",
    "    t = time.time()\n",
    "    count = download_many(POP20_CC)\n",
    "    t2 = time.time() - t\n",
    "    msg = '{count} download {t}'.format(count=count, t=t2)\n",
    "    print(msg)\n",
    "    \n",
    "def get_flag(cc):\n",
    "    url = '{base_url}/{cc}/{cc}.gif'.format(base_url = BASE_URL, cc=cc.lower())\n",
    "    resp = requests.get(url)\n",
    "    if resp.status_code != 200:\n",
    "        resp.raise_for_status()\n",
    "    return resp.content\n",
    "\n",
    "def show(text):\n",
    "    print(text, end=' ')\n",
    "    sys.stdout.flush()"
   ]
  },
  {
   "cell_type": "code",
   "execution_count": 6,
   "metadata": {},
   "outputs": [],
   "source": [
    "def download_one(cc, verbose=False):\n",
    "    try:\n",
    "        image = get_flag(cc)\n",
    "    except requests.exceptions.HTTPError as exc:\n",
    "        res = exc.response\n",
    "        if res.status_code == 404:\n",
    "            status = HTTPStatus.not_found\n",
    "            msg = 'not found'\n",
    "        else:\n",
    "            raise\n",
    "    \n",
    "    else:\n",
    "        seve_flag(image, cc.lower()+'.gif')\n",
    "        status = HTTPStatus.ok\n",
    "        msg = 'ok'\n",
    "        \n",
    "    if verbose:\n",
    "        print(cc, msg)\n",
    "    return (status, cc)"
   ]
  },
  {
   "cell_type": "code",
   "execution_count": 29,
   "metadata": {},
   "outputs": [],
   "source": [
    "def download_many(cc_list, verbose, max_req):\n",
    "    counter = collections.Counter()\n",
    "    cc_iter = sorted(cc_list)\n",
    "    if not verbose:\n",
    "        cc_iter = tqdm.tqdm(cc_iter)\n",
    "    for cc in cc_iter:\n",
    "        import time\n",
    "        time.sleep(1)"
   ]
  },
  {
   "cell_type": "code",
   "execution_count": 30,
   "metadata": {},
   "outputs": [
    {
     "name": "stderr",
     "output_type": "stream",
     "text": [
      "\r",
      "  0%|          | 0/20 [00:00<?, ?it/s]\r",
      "  5%|▌         | 1/20 [00:01<00:19,  1.00s/it]\r",
      " 10%|█         | 2/20 [00:02<00:18,  1.00s/it]\r",
      " 15%|█▌        | 3/20 [00:03<00:17,  1.00s/it]\r",
      " 20%|██        | 4/20 [00:04<00:16,  1.00s/it]\r",
      " 25%|██▌       | 5/20 [00:05<00:15,  1.00s/it]\r",
      " 30%|███       | 6/20 [00:06<00:14,  1.00s/it]\r",
      " 35%|███▌      | 7/20 [00:07<00:13,  1.00s/it]\r",
      " 40%|████      | 8/20 [00:08<00:12,  1.00s/it]\r",
      " 45%|████▌     | 9/20 [00:09<00:11,  1.00s/it]\r",
      " 50%|█████     | 10/20 [00:10<00:10,  1.00s/it]\r",
      " 55%|█████▌    | 11/20 [00:11<00:09,  1.00s/it]\r",
      " 60%|██████    | 12/20 [00:12<00:08,  1.00s/it]\r",
      " 65%|██████▌   | 13/20 [00:13<00:07,  1.00s/it]\r",
      " 70%|███████   | 14/20 [00:14<00:06,  1.00s/it]\r",
      " 75%|███████▌  | 15/20 [00:15<00:05,  1.00s/it]\r",
      " 80%|████████  | 16/20 [00:16<00:04,  1.00s/it]\r",
      " 85%|████████▌ | 17/20 [00:17<00:03,  1.00s/it]\r",
      " 90%|█████████ | 18/20 [00:18<00:02,  1.00s/it]\r",
      " 95%|█████████▌| 19/20 [00:19<00:01,  1.00s/it]\r",
      "100%|██████████| 20/20 [00:20<00:00,  1.00s/it]\n"
     ]
    }
   ],
   "source": [
    "download_many(POP20_CC, False, 20)"
   ]
  },
  {
   "cell_type": "code",
   "execution_count": 17,
   "metadata": {},
   "outputs": [
    {
     "name": "stdout",
     "output_type": "stream",
     "text": [
      "Scheduled for CN:<Future at 0x103bbfa20 state=running>\n",
      "Scheduled for CN:<Future at 0x103bbfb00 state=running>\n",
      "Scheduled for CN:<Future at 0x103ba06a0 state=running>\n",
      "Scheduled for CN:<Future at 0x103b70080 state=pending>\n",
      "Scheduled for CN:<Future at 0x103b70668 state=pending>\n",
      "Scheduled for ID:<Future at 0x103b70dd8 state=pending>\n",
      "Scheduled for ID:<Future at 0x103b7df98 state=pending>\n",
      "Scheduled for ID:<Future at 0x103bca128 state=pending>\n",
      "Scheduled for ID:<Future at 0x103bcab00 state=pending>\n",
      "Scheduled for ID:<Future at 0x103bca9e8 state=pending>\n",
      "Scheduled for IN:<Future at 0x103ba6c88 state=pending>\n",
      "Scheduled for IN:<Future at 0x103ba6be0 state=pending>\n",
      "Scheduled for IN:<Future at 0x103ba6860 state=pending>\n",
      "Scheduled for IN:<Future at 0x103b7df60 state=pending>\n",
      "Scheduled for IN:<Future at 0x103b70898 state=pending>\n",
      "Scheduled for US:<Future at 0x103c404e0 state=pending>\n",
      "Scheduled for US:<Future at 0x103b705f8 state=pending>\n",
      "Scheduled for US:<Future at 0x103bcaf60 state=pending>\n",
      "Scheduled for US:<Future at 0x103bca2b0 state=pending>\n",
      "Scheduled for US:<Future at 0x103c40d30 state=pending>\n",
      "CNCN  <Future at 0x103bbfb00 state=finished returned str> result: CN\n",
      "<Future at 0x103bbfa20 state=finished returned str> result: CN\n",
      "CN <Future at 0x103ba06a0 state=finished returned str> result: CN\n",
      "CN <Future at 0x103b70668 state=finished returned str> result: CN\n",
      "ID <Future at 0x103b70dd8 state=finished returned str> result: IDCN\n",
      " <Future at 0x103b70080 state=finished returned str> result: CN\n",
      "ID <Future at 0x103b7df98 state=finished returned str> result: ID\n",
      "ID ID <Future at 0x103bca128 state=finished returned str> result: ID\n",
      "<Future at 0x103bcab00 state=finished returned str> result: ID\n",
      "ID <Future at 0x103bca9e8 state=finished returned str> result: ID\n",
      "IN IN <Future at 0x103ba6c88 state=finished returned str> result: IN\n",
      "<Future at 0x103ba6be0 state=finished returned str> result: IN\n",
      "IN <Future at 0x103ba6860 state=finished returned str> result: IN\n",
      "ININ  <Future at 0x103b70898 state=finished returned str> result: IN\n",
      "<Future at 0x103b7df60 state=finished returned str> result: IN\n",
      "US <Future at 0x103c404e0 state=finished returned str> result: US\n",
      "US <Future at 0x103bcaf60 state=finished returned str> result: US\n",
      "US <Future at 0x103b705f8 state=finished returned str> result: US\n",
      "US <Future at 0x103bca2b0 state=finished returned str> result: US\n",
      "US <Future at 0x103c40d30 state=finished returned str> result: US\n",
      "20 download 3.2598490715026855\n"
     ]
    }
   ],
   "source": [
    "main(download_many)"
   ]
  },
  {
   "cell_type": "code",
   "execution_count": null,
   "metadata": {},
   "outputs": [],
   "source": []
  }
 ],
 "metadata": {
  "kernelspec": {
   "display_name": "Python 3",
   "language": "python",
   "name": "python3"
  },
  "language_info": {
   "codemirror_mode": {
    "name": "ipython",
    "version": 3
   },
   "file_extension": ".py",
   "mimetype": "text/x-python",
   "name": "python",
   "nbconvert_exporter": "python",
   "pygments_lexer": "ipython3",
   "version": "3.6.1"
  }
 },
 "nbformat": 4,
 "nbformat_minor": 2
}
