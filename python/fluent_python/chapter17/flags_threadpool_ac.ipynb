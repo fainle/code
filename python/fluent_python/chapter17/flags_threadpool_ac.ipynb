{
 "cells": [
  {
   "cell_type": "code",
   "execution_count": 1,
   "metadata": {},
   "outputs": [],
   "source": [
    "from concurrent import futures\n",
    "\n",
    "import os\n",
    "import time\n",
    "import sys\n",
    "import requests"
   ]
  },
  {
   "cell_type": "code",
   "execution_count": 2,
   "metadata": {},
   "outputs": [],
   "source": [
    "POP20_CC = ('CN','IN', 'US', 'ID', 'CN','IN', 'US', 'ID', 'CN','IN', 'US', 'ID', 'CN','IN', 'US', 'ID', 'CN','IN', 'US', 'ID')\n",
    "BASE_URL = 'http://flupy.org/data/flags'\n",
    "DEST_DIR = 'downloads'\n",
    "MAX_WORKERS = 20"
   ]
  },
  {
   "cell_type": "code",
   "execution_count": 3,
   "metadata": {},
   "outputs": [],
   "source": [
    "def seve_flag(img, filename):\n",
    "    path = os.path.join(DEST_DIR, filename)\n",
    "    with open(path, 'wb') as f:\n",
    "        f.write(img)\n",
    "        \n",
    "def main(download_many):\n",
    "    t = time.time()\n",
    "    count = download_many(POP20_CC)\n",
    "    t2 = time.time() - t\n",
    "    msg = '{count} download {t}'.format(count=count, t=t2)\n",
    "    print(msg)\n",
    "    \n",
    "def get_flag(cc):\n",
    "    url = '{base_url}/{cc}/{cc}.gif'.format(base_url = BASE_URL, cc=cc.lower())\n",
    "    resp = requests.get(url)\n",
    "    return resp.content\n",
    "\n",
    "def show(text):\n",
    "    print(text, end=' ')\n",
    "    sys.stdout.flush()"
   ]
  },
  {
   "cell_type": "code",
   "execution_count": 4,
   "metadata": {},
   "outputs": [],
   "source": [
    "def download_one(cc):\n",
    "    image = get_flag(cc)\n",
    "    show(cc)\n",
    "    seve_flag(image, cc.lower()+'.gif')\n",
    "    return cc"
   ]
  },
  {
   "cell_type": "code",
   "execution_count": 15,
   "metadata": {},
   "outputs": [],
   "source": [
    "def download_many(cc_list):\n",
    "    with futures.ThreadPoolExecutor(3) as executor:\n",
    "        to_do = []\n",
    "        for cc in sorted(cc_list):\n",
    "            future = executor.submit(download_one, cc)\n",
    "            to_do.append(future)\n",
    "            msg = 'Scheduled for {cc}:{future}'.format(cc=cc, future=future)\n",
    "            print(msg)\n",
    "            \n",
    "        results = []\n",
    "        for future in futures.as_completed(to_do):\n",
    "            res = future.result()\n",
    "            msg = '{future} result: {res}'.format(future=future, res=res)\n",
    "            print(msg)\n",
    "            results.append(res)\n",
    "    return len(results)"
   ]
  },
  {
   "cell_type": "code",
   "execution_count": 16,
   "metadata": {},
   "outputs": [],
   "source": [
    "def main(download_many):\n",
    "    t = time.time()\n",
    "    count = download_many(POP20_CC)\n",
    "    t2 = time.time() - t\n",
    "    msg = '{count} download {t}'.format(count=count, t=t2)\n",
    "    print(msg)"
   ]
  },
  {
   "cell_type": "code",
   "execution_count": 17,
   "metadata": {},
   "outputs": [
    {
     "name": "stdout",
     "output_type": "stream",
     "text": [
      "Scheduled for CN:<Future at 0x103bbfa20 state=running>\n",
      "Scheduled for CN:<Future at 0x103bbfb00 state=running>\n",
      "Scheduled for CN:<Future at 0x103ba06a0 state=running>\n",
      "Scheduled for CN:<Future at 0x103b70080 state=pending>\n",
      "Scheduled for CN:<Future at 0x103b70668 state=pending>\n",
      "Scheduled for ID:<Future at 0x103b70dd8 state=pending>\n",
      "Scheduled for ID:<Future at 0x103b7df98 state=pending>\n",
      "Scheduled for ID:<Future at 0x103bca128 state=pending>\n",
      "Scheduled for ID:<Future at 0x103bcab00 state=pending>\n",
      "Scheduled for ID:<Future at 0x103bca9e8 state=pending>\n",
      "Scheduled for IN:<Future at 0x103ba6c88 state=pending>\n",
      "Scheduled for IN:<Future at 0x103ba6be0 state=pending>\n",
      "Scheduled for IN:<Future at 0x103ba6860 state=pending>\n",
      "Scheduled for IN:<Future at 0x103b7df60 state=pending>\n",
      "Scheduled for IN:<Future at 0x103b70898 state=pending>\n",
      "Scheduled for US:<Future at 0x103c404e0 state=pending>\n",
      "Scheduled for US:<Future at 0x103b705f8 state=pending>\n",
      "Scheduled for US:<Future at 0x103bcaf60 state=pending>\n",
      "Scheduled for US:<Future at 0x103bca2b0 state=pending>\n",
      "Scheduled for US:<Future at 0x103c40d30 state=pending>\n",
      "CNCN  <Future at 0x103bbfb00 state=finished returned str> result: CN\n",
      "<Future at 0x103bbfa20 state=finished returned str> result: CN\n",
      "CN <Future at 0x103ba06a0 state=finished returned str> result: CN\n",
      "CN <Future at 0x103b70668 state=finished returned str> result: CN\n",
      "ID <Future at 0x103b70dd8 state=finished returned str> result: IDCN\n",
      " <Future at 0x103b70080 state=finished returned str> result: CN\n",
      "ID <Future at 0x103b7df98 state=finished returned str> result: ID\n",
      "ID ID <Future at 0x103bca128 state=finished returned str> result: ID\n",
      "<Future at 0x103bcab00 state=finished returned str> result: ID\n",
      "ID <Future at 0x103bca9e8 state=finished returned str> result: ID\n",
      "IN IN <Future at 0x103ba6c88 state=finished returned str> result: IN\n",
      "<Future at 0x103ba6be0 state=finished returned str> result: IN\n",
      "IN <Future at 0x103ba6860 state=finished returned str> result: IN\n",
      "ININ  <Future at 0x103b70898 state=finished returned str> result: IN\n",
      "<Future at 0x103b7df60 state=finished returned str> result: IN\n",
      "US <Future at 0x103c404e0 state=finished returned str> result: US\n",
      "US <Future at 0x103bcaf60 state=finished returned str> result: US\n",
      "US <Future at 0x103b705f8 state=finished returned str> result: US\n",
      "US <Future at 0x103bca2b0 state=finished returned str> result: US\n",
      "US <Future at 0x103c40d30 state=finished returned str> result: US\n",
      "20 download 3.2598490715026855\n"
     ]
    }
   ],
   "source": [
    "main(download_many)"
   ]
  },
  {
   "cell_type": "code",
   "execution_count": null,
   "metadata": {},
   "outputs": [],
   "source": []
  }
 ],
 "metadata": {
  "kernelspec": {
   "display_name": "Python 3",
   "language": "python",
   "name": "python3"
  },
  "language_info": {
   "codemirror_mode": {
    "name": "ipython",
    "version": 3
   },
   "file_extension": ".py",
   "mimetype": "text/x-python",
   "name": "python",
   "nbconvert_exporter": "python",
   "pygments_lexer": "ipython3",
   "version": "3.6.1"
  }
 },
 "nbformat": 4,
 "nbformat_minor": 2
}
