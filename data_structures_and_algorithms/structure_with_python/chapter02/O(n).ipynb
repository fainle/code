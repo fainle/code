{
 "cells": [
  {
   "cell_type": "code",
   "execution_count": 16,
   "metadata": {},
   "outputs": [],
   "source": [
    "def func(str1, str2):\n",
    "    list1 = [0] * 26\n",
    "    list2 = [0] * 26\n",
    "    \n",
    "    for i in list(str1):\n",
    "        list1[ord(i) - ord('a')] += 1\n",
    "    \n",
    "    for j in list(str2):\n",
    "        list2[ord(j) - ord('a')] += 1\n",
    "    \n",
    "    k = 0\n",
    "    still_ok = True\n",
    "    \n",
    "    while k < len(list1):\n",
    "        if list1[k] != list2[k]:\n",
    "            still_ok = False\n",
    "            \n",
    "        k += 1\n",
    "\n",
    "    return still_ok"
   ]
  },
  {
   "cell_type": "code",
   "execution_count": 17,
   "metadata": {},
   "outputs": [
    {
     "data": {
      "text/plain": [
       "False"
      ]
     },
     "execution_count": 17,
     "metadata": {},
     "output_type": "execute_result"
    }
   ],
   "source": [
    "func('abc', 'abd')"
   ]
  },
  {
   "cell_type": "code",
   "execution_count": 18,
   "metadata": {},
   "outputs": [
    {
     "data": {
      "text/plain": [
       "True"
      ]
     },
     "execution_count": 18,
     "metadata": {},
     "output_type": "execute_result"
    }
   ],
   "source": [
    "func('abc', 'cba')"
   ]
  },
  {
   "cell_type": "code",
   "execution_count": null,
   "metadata": {},
   "outputs": [],
   "source": []
  }
 ],
 "metadata": {
  "kernelspec": {
   "display_name": "Python 3",
   "language": "python",
   "name": "python3"
  },
  "language_info": {
   "codemirror_mode": {
    "name": "ipython",
    "version": 3
   },
   "file_extension": ".py",
   "mimetype": "text/x-python",
   "name": "python",
   "nbconvert_exporter": "python",
   "pygments_lexer": "ipython3",
   "version": "3.6.1"
  }
 },
 "nbformat": 4,
 "nbformat_minor": 2
}
